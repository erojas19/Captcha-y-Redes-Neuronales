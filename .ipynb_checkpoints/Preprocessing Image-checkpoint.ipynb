{
 "cells": [
  {
   "cell_type": "code",
   "execution_count": 4,
   "metadata": {},
   "outputs": [],
   "source": [
    "import os\n",
    "import random\n",
    "\n",
    "captcha_images_folder = \"captcha_images\"\n",
    "captchas = [os.path.join(captcha_images_folder, f) for f in os.listdir(captcha_images_folder)]"
   ]
  },
  {
   "cell_type": "code",
   "execution_count": 5,
   "metadata": {},
   "outputs": [
    {
     "name": "stdout",
     "output_type": "stream",
     "text": [
      "4676\n"
     ]
    }
   ],
   "source": [
    "print(len(captchas))"
   ]
  },
  {
   "cell_type": "code",
   "execution_count": null,
   "metadata": {},
   "outputs": [],
   "source": [
    "import matplotlib.pyplot as plt\n",
    "import matplotlib.image as mpimg\n",
    "_, ax = plt.subplots(4, 4)\n",
    "for i in range(16):\n",
    "    img = mpimg.imread(captchas[random.randint(1,4676)])\n",
    "    ax[i // 4, i % 4].imshow(img, cmap=\"gray\")\n",
    "imgplot = plt.imshow(img)\n"
   ]
  },
  {
   "cell_type": "code",
   "execution_count": 5,
   "metadata": {},
   "outputs": [],
   "source": [
    "def get_CAPTCHA_label(captcha_image_file):\n",
    "    \"\"\"Get the CAPTCHA text from the file name.\"\"\"\n",
    "    filename = os.path.basename(captcha_image_file)\n",
    "    label = filename.split(\".\")[0]\n",
    "#     print(label)\n",
    "    return label"
   ]
  },
  {
   "cell_type": "code",
   "execution_count": 6,
   "metadata": {},
   "outputs": [],
   "source": [
    "import cv2\n",
    "def read_CAPTCHA_image(captcha_image_file):\n",
    "    \"\"\"Read CAPTCHA image into numpy array using OpenCv.\"\"\"\n",
    "    return cv2.imread(captcha_image_file)"
   ]
  },
  {
   "cell_type": "code",
   "execution_count": 7,
   "metadata": {},
   "outputs": [],
   "source": [
    "def lets_see_it(image):\n",
    "    \"\"\"Displays the image.\"\"\"\n",
    "    cv2.imshow(\"window name\", image)\n",
    "    cv2.waitKey(0)\n",
    "    cv2.destroyAllWindows()"
   ]
  },
  {
   "cell_type": "code",
   "execution_count": 8,
   "metadata": {},
   "outputs": [],
   "source": [
    "def grayscale_CAPTCHA_image(captcha_image):\n",
    "    \"Grayscales CAPTCHA image.\"\"\"\n",
    "    return cv2.cvtColor(captcha_image, cv2.COLOR_BGR2GRAY)"
   ]
  },
  {
   "cell_type": "code",
   "execution_count": 9,
   "metadata": {},
   "outputs": [],
   "source": [
    "def threshold_CAPTCHA_image(captcha_image_grayscaled):\n",
    "    \"\"\"Thresholds CAPTCHA image.\"\"\"\n",
    "#     return cv2.threshold(captcha_image_grayscaled, 0, 255, cv2.THRESH_BINARY_INV | cv2.THRESH_OTSU)[1]\n",
    "    return cv2.threshold(\n",
    "        captcha_image_grayscaled, 0, 255, cv2.THRESH_BINARY_INV | cv2.THRESH_OTSU\n",
    "    )[1]"
   ]
  },
  {
   "cell_type": "code",
   "execution_count": 10,
   "metadata": {},
   "outputs": [],
   "source": [
    "import numpy as np\n",
    "def dilate_characters(binary_image):\n",
    "    \"\"\"slightly expands the characters.\"\"\"\n",
    "    kernel = np.ones((2,2), np.uint8) \n",
    "    return cv2.dilate(binary_image, kernel,iterations = 1)"
   ]
  },
  {
   "cell_type": "code",
   "execution_count": 11,
   "metadata": {},
   "outputs": [],
   "source": [
    "def find_CAPTCHA_contours(captcha_image_thresholded):\n",
    "    \"\"\"Compute the contours of characters in the CAPTCHA image.\"\"\"\n",
    "    return cv2.findContours(captcha_image_thresholded, cv2.RETR_EXTERNAL, cv2.CHAIN_APPROX_SIMPLE)[1]\n",
    "#     contours, hierarchy = cv2.findContours(captcha_image_thresholded, cv2.RETR_LIST, cv2.CHAIN_APPROX_SIMPLE)[-2:]\n",
    "#     contours, hierarchy = cv2.findContours(captcha_image_thresholded, cv2.RETR_EXTERNAL, cv2.CHAIN_APPROX_SIMPLE)[-2:]\n",
    "#     return contours"
   ]
  },
  {
   "cell_type": "code",
   "execution_count": 12,
   "metadata": {},
   "outputs": [],
   "source": [
    "def compute_bounding_rectangles(contours):\n",
    "    \"\"\"Computes the bounding rectangles of the contours.\"\"\"\n",
    "    return list(map(cv2.boundingRect,contours))"
   ]
  },
  {
   "cell_type": "code",
   "execution_count": 13,
   "metadata": {},
   "outputs": [],
   "source": [
    "def show_bounding_rectangles(rectangles, image):\n",
    "    \"\"\"Shows the bounding rectangles of contours on the image.\"\"\"\n",
    "    for rect in rectangles:\n",
    "        x,y,w,h = rect\n",
    "        cv2.rectangle(image,(x,y),(x+w,y+h),(0,255,0),2)\n",
    "    lets_see_it(image)"
   ]
  },
  {
   "cell_type": "code",
   "execution_count": 14,
   "metadata": {},
   "outputs": [],
   "source": [
    "def split_fat_rectangles(rectangles):\n",
    "    \"\"\"Splits fat rectangles into two rectangles.\"\"\"\n",
    "    letter_bounding_rectangles = []\n",
    "    for rectangle in rectangles:\n",
    "        (x, y, w, h) = rectangle\n",
    "        print\n",
    "        if w / h > 1.25:\n",
    "            half_width = int(w / 2)\n",
    "            letter_bounding_rectangles.append((x, y, half_width, h))\n",
    "            letter_bounding_rectangles.append((x + half_width, y, half_width, h))\n",
    "        else:\n",
    "            letter_bounding_rectangles.append(rectangle)\n",
    "    return letter_bounding_rectangles"
   ]
  },
  {
   "cell_type": "code",
   "execution_count": 15,
   "metadata": {},
   "outputs": [],
   "source": [
    "def get_character_images(rectangles, image):\n",
    "    \"\"\"Extracts the characters defined by bounding rectangles.\"\"\"\n",
    "    char_images = []\n",
    "    for rect in rectangles:\n",
    "            x, y, w, h = rect\n",
    "            char_image = image[y - 1 : y + h + 1, x - 1 : x + w + 1]\n",
    "            char_images.append(char_image)\n",
    "    return char_images"
   ]
  },
  {
   "cell_type": "code",
   "execution_count": 16,
   "metadata": {},
   "outputs": [],
   "source": [
    "def sort_bounding_rectangles(rects): \n",
    "    \"\"\"Sorts bounding rectangles by x coordinate.\"\"\"\n",
    "    return(sorted(rects, key = lambda x: float(x[0]))) "
   ]
  },
  {
   "cell_type": "code",
   "execution_count": 17,
   "metadata": {},
   "outputs": [],
   "source": [
    "captcha_processing_output_folder = \"extracted_character_images\"\n",
    "character_counts = {}\n",
    "for captcha_image_file in captchas:\n",
    "    captcha_label = get_CAPTCHA_label(captcha_image_file)\n",
    "#     print(captcha_label)\n",
    "    captcha_image = read_CAPTCHA_image(captcha_image_file)\n",
    "#     print(captcha_image.shape)\n",
    "    captcha_image_grayscaled = grayscale_CAPTCHA_image(captcha_image)\n",
    "#     print(captcha_image_grayscaled.shape)\n",
    "    captcha_image_thresholded = threshold_CAPTCHA_image(captcha_image_grayscaled)\n",
    "#     print(captcha_image_thresholded.shape)\n",
    "#     lets_see_it(captcha_image_thresholded)\n",
    "    captcha_image_dilated = dilate_characters(captcha_image_thresholded)\n",
    "#     lets_see_it(captcha_image_dilated)\n",
    "    captcha_image_contours = find_CAPTCHA_contours(captcha_image_dilated)\n",
    "#     lets_see_it(captcha_image_contours)\n",
    "#     print(captcha_image_contours)\n",
    "#     print(2)\n",
    "#     lets_see_it(cv2.drawContours(captcha_image,captcha_image_contours,-1,(0,255,0),3))\n",
    "    character_bounding_rectangles = split_fat_rectangles(compute_bounding_rectangles(captcha_image_contours))\n",
    "    character_bounding_rectangles = sort_bounding_rectangles(character_bounding_rectangles)\n",
    "    character_images = get_character_images(character_bounding_rectangles, captcha_image)\n",
    "    for char_image, current_char in zip(character_images, captcha_label):\n",
    "        if (len(character_images) == 4):\n",
    "            save_dir = os.path.join(captcha_processing_output_folder, current_char)\n",
    "            if not os.path.exists(save_dir):\n",
    "                os.makedirs(save_dir)\n",
    "            character_count = character_counts.get(current_char, 0)\n",
    "            image_save_path = os.path.join(save_dir, str(character_count) + \".png\")\n",
    "            cv2.imwrite(image_save_path, char_image)\n",
    "            character_counts[current_char] = character_count + 1"
   ]
  },
  {
   "cell_type": "code",
   "execution_count": null,
   "metadata": {},
   "outputs": [],
   "source": []
  },
  {
   "cell_type": "code",
   "execution_count": null,
   "metadata": {},
   "outputs": [],
   "source": []
  }
 ],
 "metadata": {
  "kernelspec": {
   "display_name": "Python 3",
   "language": "python",
   "name": "python3"
  },
  "language_info": {
   "codemirror_mode": {
    "name": "ipython",
    "version": 3
   },
   "file_extension": ".py",
   "mimetype": "text/x-python",
   "name": "python",
   "nbconvert_exporter": "python",
   "pygments_lexer": "ipython3",
   "version": "3.7.7"
  }
 },
 "nbformat": 4,
 "nbformat_minor": 2
}
