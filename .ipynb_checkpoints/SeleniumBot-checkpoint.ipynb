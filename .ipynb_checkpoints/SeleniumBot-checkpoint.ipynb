{
 "cells": [
  {
   "cell_type": "code",
   "execution_count": 1,
   "metadata": {},
   "outputs": [
    {
     "data": {
      "application/javascript": [
       "\n",
       "            setTimeout(function() {\n",
       "                var nbb_cell_id = 1;\n",
       "                var nbb_unformatted_code = \"%load_ext nb_black\";\n",
       "                var nbb_formatted_code = \"%load_ext nb_black\";\n",
       "                var nbb_cells = Jupyter.notebook.get_cells();\n",
       "                for (var i = 0; i < nbb_cells.length; ++i) {\n",
       "                    if (nbb_cells[i].input_prompt_number == nbb_cell_id) {\n",
       "                        if (nbb_cells[i].get_text() == nbb_unformatted_code) {\n",
       "                             nbb_cells[i].set_text(nbb_formatted_code);\n",
       "                        }\n",
       "                        break;\n",
       "                    }\n",
       "                }\n",
       "            }, 500);\n",
       "            "
      ],
      "text/plain": [
       "<IPython.core.display.Javascript object>"
      ]
     },
     "metadata": {},
     "output_type": "display_data"
    }
   ],
   "source": [
    "%load_ext nb_black"
   ]
  },
  {
   "cell_type": "code",
   "execution_count": 2,
   "metadata": {},
   "outputs": [
    {
     "data": {
      "application/javascript": [
       "\n",
       "            setTimeout(function() {\n",
       "                var nbb_cell_id = 2;\n",
       "                var nbb_unformatted_code = \"from selenium import webdriver\\nimport time\\n\\ndriver = webdriver.Chrome()\\ndriver.get(\\\"http://www.google.com/\\\")\\nsearch_box = driver.find_element_by_name(\\\"q\\\")\\nsearch_box.send_keys(\\\"ChromeDriver\\\")\\nsearch_box.submit()\\ntime.sleep(5)\\ndriver.quit()\";\n",
       "                var nbb_formatted_code = \"from selenium import webdriver\\nimport time\\n\\ndriver = webdriver.Chrome()\\ndriver.get(\\\"http://www.google.com/\\\")\\nsearch_box = driver.find_element_by_name(\\\"q\\\")\\nsearch_box.send_keys(\\\"ChromeDriver\\\")\\nsearch_box.submit()\\ntime.sleep(5)\\ndriver.quit()\";\n",
       "                var nbb_cells = Jupyter.notebook.get_cells();\n",
       "                for (var i = 0; i < nbb_cells.length; ++i) {\n",
       "                    if (nbb_cells[i].input_prompt_number == nbb_cell_id) {\n",
       "                        if (nbb_cells[i].get_text() == nbb_unformatted_code) {\n",
       "                             nbb_cells[i].set_text(nbb_formatted_code);\n",
       "                        }\n",
       "                        break;\n",
       "                    }\n",
       "                }\n",
       "            }, 500);\n",
       "            "
      ],
      "text/plain": [
       "<IPython.core.display.Javascript object>"
      ]
     },
     "metadata": {},
     "output_type": "display_data"
    }
   ],
   "source": [
    "from selenium import webdriver\n",
    "import time\n",
    "\n",
    "driver = webdriver.Chrome()\n",
    "driver.get(\"http://www.google.com/\")\n",
    "search_box = driver.find_element_by_name(\"q\")\n",
    "search_box.send_keys(\"ChromeDriver\")\n",
    "search_box.submit()\n",
    "time.sleep(5)\n",
    "driver.quit()"
   ]
  },
  {
   "cell_type": "code",
   "execution_count": 3,
   "metadata": {},
   "outputs": [
    {
     "data": {
      "application/javascript": [
       "\n",
       "            setTimeout(function() {\n",
       "                var nbb_cell_id = 3;\n",
       "                var nbb_unformatted_code = \"import cv2\\nimport numpy as np\\nimport imutils\\nimport pickle\\n\\n\\ndef read_CAPTCHA_image(captcha_image_file):\\n    \\\"\\\"\\\"Read CAPTCHA image into numpy array using OpenCv.\\\"\\\"\\\"\\n    return cv2.imread(captcha_image_file)\\n\\n\\ndef grayscale_CAPTCHA_image(captcha_image):\\n    \\\"Grayscales CAPTCHA image.\\\" \\\"\\\"\\n    return cv2.cvtColor(captcha_image, cv2.COLOR_BGR2GRAY)\\n\\n\\ndef threshold_CAPTCHA_image(captcha_image_grayscaled):\\n    \\\"\\\"\\\"Thresholds CAPTCHA image.\\\"\\\"\\\"\\n    return cv2.threshold(\\n        captcha_image_grayscaled, 0, 255, cv2.THRESH_BINARY_INV | cv2.THRESH_OTSU\\n    )[1]\\n\\n\\ndef dilate_characters(binary_image):\\n    \\\"\\\"\\\"slightly expands the characters.\\\"\\\"\\\"\\n    kernel = np.ones((2, 2), np.uint8)\\n    return cv2.dilate(binary_image, kernel, iterations=1)\\n\\n\\ndef find_CAPTCHA_contours(captcha_image_thresholded):\\n    \\\"\\\"\\\"Compute the contours of characters in the CAPTCHA image.\\\"\\\"\\\"\\n    return cv2.findContours(\\n        captcha_image_thresholded, cv2.RETR_EXTERNAL, cv2.CHAIN_APPROX_SIMPLE\\n    )[0]\\n\\n\\ndef compute_bounding_rectangles(contours):\\n    \\\"\\\"\\\"Computes the bounding rectangles of the contours.\\\"\\\"\\\"\\n    return list(map(cv2.boundingRect, contours))\\n\\n\\ndef split_fat_rectangles(rectangles):\\n    \\\"\\\"\\\"Splits fat rectangles into two rectangles.\\\"\\\"\\\"\\n    letter_bounding_rectangles = []\\n    for rectangle in rectangles:\\n        (x, y, w, h) = rectangle\\n        if w / h > 1.25:\\n            half_width = int(w / 2)\\n            letter_bounding_rectangles.append((x, y, half_width, h))\\n            letter_bounding_rectangles.append((x + half_width, y, half_width, h))\\n        else:\\n            letter_bounding_rectangles.append(rectangle)\\n    return letter_bounding_rectangles\\n\\n\\ndef get_character_images(rectangles, image):\\n    \\\"\\\"\\\"Extracts the characters defined by bounding rectangles.\\\"\\\"\\\"\\n    char_images = []\\n    for rect in rectangles:\\n        x, y, w, h = rect\\n        char_image = image[y - 1 : y + h + 1, x - 1 : x + w + 1]\\n        char_images.append(char_image)\\n    return char_images\\n\\n\\ndef sort_bounding_rectangles(rects):\\n    \\\"\\\"\\\"Sorts bounding rectangles by x coordinate.\\\"\\\"\\\"\\n    return sorted(rects, key=lambda x: float(x[0]))\\n\\n\\ndef grayscale(image):\\n    \\\"\\\"\\\"Grayscales image using openCV.\\\"\\\"\\\"\\n    return cv2.cvtColor(image, cv2.COLOR_BGR2GRAY)\\n\\n\\ndef normalize_dimensions(image, desired_width=20, desired_height=20):\\n    \\\"\\\"\\\"Resizes image to desired dimensions using white padding and rescaling.\\\"\\\"\\\"\\n    (h, w) = image.shape[:2]\\n    if w > h:\\n        image = imutils.resize(image, width=desired_width)\\n    else:\\n        image = imutils.resize(image, height=desired_height)\\n    width_padding = int((desired_width - image.shape[1]) / 2)\\n    height_padding = int((desired_height - image.shape[0]) / 2)\\n    WHITE = [255, 255, 255]\\n    image_with_border = cv2.copyMakeBorder(\\n        image,\\n        height_padding,\\n        height_padding,\\n        width_padding,\\n        width_padding,\\n        cv2.BORDER_CONSTANT,\\n        value=WHITE,\\n    )\\n    image_with_border_resized = cv2.resize(\\n        image_with_border, (desired_width, desired_height), interpolation=cv2.INTER_AREA\\n    )\\n    return image_with_border_resized\\n\\n\\ndef reshape_for_keras(image):\\n    \\\"\\\"\\\"Adds a dummy dimension to fit keras's input requirements.\\\"\\\"\\\"\\n    return np.expand_dims(image, axis=2)\\n\\n\\ndef CAPTCHA_to_characters_pipeline(CAPTCHA):\\n    \\\"\\\"\\\"Crop the character of a CAPTCHA.\\\"\\\"\\\"\\n    captcha_image = read_CAPTCHA_image(CAPTCHA)\\n    captcha_image_grayscaled = grayscale_CAPTCHA_image(captcha_image)\\n    captcha_image_thresholded = threshold_CAPTCHA_image(captcha_image_grayscaled)\\n    captcha_image_dilated = dilate_characters(captcha_image_thresholded)\\n    captcha_image_contours = find_CAPTCHA_contours(captcha_image_dilated)\\n    character_bounding_rectangles = split_fat_rectangles(\\n        compute_bounding_rectangles(captcha_image_contours)\\n    )\\n    character_bounding_rectangles = sort_bounding_rectangles(\\n        character_bounding_rectangles\\n    )\\n    character_images = get_character_images(\\n        character_bounding_rectangles, captcha_image\\n    )\\n    return character_images\";\n",
       "                var nbb_formatted_code = \"import cv2\\nimport numpy as np\\nimport imutils\\nimport pickle\\n\\n\\ndef read_CAPTCHA_image(captcha_image_file):\\n    \\\"\\\"\\\"Read CAPTCHA image into numpy array using OpenCv.\\\"\\\"\\\"\\n    return cv2.imread(captcha_image_file)\\n\\n\\ndef grayscale_CAPTCHA_image(captcha_image):\\n    \\\"Grayscales CAPTCHA image.\\\" \\\"\\\"\\n    return cv2.cvtColor(captcha_image, cv2.COLOR_BGR2GRAY)\\n\\n\\ndef threshold_CAPTCHA_image(captcha_image_grayscaled):\\n    \\\"\\\"\\\"Thresholds CAPTCHA image.\\\"\\\"\\\"\\n    return cv2.threshold(\\n        captcha_image_grayscaled, 0, 255, cv2.THRESH_BINARY_INV | cv2.THRESH_OTSU\\n    )[1]\\n\\n\\ndef dilate_characters(binary_image):\\n    \\\"\\\"\\\"slightly expands the characters.\\\"\\\"\\\"\\n    kernel = np.ones((2, 2), np.uint8)\\n    return cv2.dilate(binary_image, kernel, iterations=1)\\n\\n\\ndef find_CAPTCHA_contours(captcha_image_thresholded):\\n    \\\"\\\"\\\"Compute the contours of characters in the CAPTCHA image.\\\"\\\"\\\"\\n    return cv2.findContours(\\n        captcha_image_thresholded, cv2.RETR_EXTERNAL, cv2.CHAIN_APPROX_SIMPLE\\n    )[0]\\n\\n\\ndef compute_bounding_rectangles(contours):\\n    \\\"\\\"\\\"Computes the bounding rectangles of the contours.\\\"\\\"\\\"\\n    return list(map(cv2.boundingRect, contours))\\n\\n\\ndef split_fat_rectangles(rectangles):\\n    \\\"\\\"\\\"Splits fat rectangles into two rectangles.\\\"\\\"\\\"\\n    letter_bounding_rectangles = []\\n    for rectangle in rectangles:\\n        (x, y, w, h) = rectangle\\n        if w / h > 1.25:\\n            half_width = int(w / 2)\\n            letter_bounding_rectangles.append((x, y, half_width, h))\\n            letter_bounding_rectangles.append((x + half_width, y, half_width, h))\\n        else:\\n            letter_bounding_rectangles.append(rectangle)\\n    return letter_bounding_rectangles\\n\\n\\ndef get_character_images(rectangles, image):\\n    \\\"\\\"\\\"Extracts the characters defined by bounding rectangles.\\\"\\\"\\\"\\n    char_images = []\\n    for rect in rectangles:\\n        x, y, w, h = rect\\n        char_image = image[y - 1 : y + h + 1, x - 1 : x + w + 1]\\n        char_images.append(char_image)\\n    return char_images\\n\\n\\ndef sort_bounding_rectangles(rects):\\n    \\\"\\\"\\\"Sorts bounding rectangles by x coordinate.\\\"\\\"\\\"\\n    return sorted(rects, key=lambda x: float(x[0]))\\n\\n\\ndef grayscale(image):\\n    \\\"\\\"\\\"Grayscales image using openCV.\\\"\\\"\\\"\\n    return cv2.cvtColor(image, cv2.COLOR_BGR2GRAY)\\n\\n\\ndef normalize_dimensions(image, desired_width=20, desired_height=20):\\n    \\\"\\\"\\\"Resizes image to desired dimensions using white padding and rescaling.\\\"\\\"\\\"\\n    (h, w) = image.shape[:2]\\n    if w > h:\\n        image = imutils.resize(image, width=desired_width)\\n    else:\\n        image = imutils.resize(image, height=desired_height)\\n    width_padding = int((desired_width - image.shape[1]) / 2)\\n    height_padding = int((desired_height - image.shape[0]) / 2)\\n    WHITE = [255, 255, 255]\\n    image_with_border = cv2.copyMakeBorder(\\n        image,\\n        height_padding,\\n        height_padding,\\n        width_padding,\\n        width_padding,\\n        cv2.BORDER_CONSTANT,\\n        value=WHITE,\\n    )\\n    image_with_border_resized = cv2.resize(\\n        image_with_border, (desired_width, desired_height), interpolation=cv2.INTER_AREA\\n    )\\n    return image_with_border_resized\\n\\n\\ndef reshape_for_keras(image):\\n    \\\"\\\"\\\"Adds a dummy dimension to fit keras's input requirements.\\\"\\\"\\\"\\n    return np.expand_dims(image, axis=2)\\n\\n\\ndef CAPTCHA_to_characters_pipeline(CAPTCHA):\\n    \\\"\\\"\\\"Crop the character of a CAPTCHA.\\\"\\\"\\\"\\n    captcha_image = read_CAPTCHA_image(CAPTCHA)\\n    captcha_image_grayscaled = grayscale_CAPTCHA_image(captcha_image)\\n    captcha_image_thresholded = threshold_CAPTCHA_image(captcha_image_grayscaled)\\n    captcha_image_dilated = dilate_characters(captcha_image_thresholded)\\n    captcha_image_contours = find_CAPTCHA_contours(captcha_image_dilated)\\n    character_bounding_rectangles = split_fat_rectangles(\\n        compute_bounding_rectangles(captcha_image_contours)\\n    )\\n    character_bounding_rectangles = sort_bounding_rectangles(\\n        character_bounding_rectangles\\n    )\\n    character_images = get_character_images(\\n        character_bounding_rectangles, captcha_image\\n    )\\n    return character_images\";\n",
       "                var nbb_cells = Jupyter.notebook.get_cells();\n",
       "                for (var i = 0; i < nbb_cells.length; ++i) {\n",
       "                    if (nbb_cells[i].input_prompt_number == nbb_cell_id) {\n",
       "                        if (nbb_cells[i].get_text() == nbb_unformatted_code) {\n",
       "                             nbb_cells[i].set_text(nbb_formatted_code);\n",
       "                        }\n",
       "                        break;\n",
       "                    }\n",
       "                }\n",
       "            }, 500);\n",
       "            "
      ],
      "text/plain": [
       "<IPython.core.display.Javascript object>"
      ]
     },
     "metadata": {},
     "output_type": "display_data"
    }
   ],
   "source": [
    "import cv2\n",
    "import numpy as np\n",
    "import imutils\n",
    "import pickle\n",
    "\n",
    "\n",
    "def read_CAPTCHA_image(captcha_image_file):\n",
    "    \"\"\"Read CAPTCHA image into numpy array using OpenCv.\"\"\"\n",
    "    return cv2.imread(captcha_image_file)\n",
    "\n",
    "\n",
    "def grayscale_CAPTCHA_image(captcha_image):\n",
    "    \"Grayscales CAPTCHA image.\" \"\"\n",
    "    return cv2.cvtColor(captcha_image, cv2.COLOR_BGR2GRAY)\n",
    "\n",
    "\n",
    "def threshold_CAPTCHA_image(captcha_image_grayscaled):\n",
    "    \"\"\"Thresholds CAPTCHA image.\"\"\"\n",
    "    return cv2.threshold(\n",
    "        captcha_image_grayscaled, 0, 255, cv2.THRESH_BINARY_INV | cv2.THRESH_OTSU\n",
    "    )[1]\n",
    "\n",
    "\n",
    "def dilate_characters(binary_image):\n",
    "    \"\"\"slightly expands the characters.\"\"\"\n",
    "    kernel = np.ones((2, 2), np.uint8)\n",
    "    return cv2.dilate(binary_image, kernel, iterations=1)\n",
    "\n",
    "\n",
    "def find_CAPTCHA_contours(captcha_image_thresholded):\n",
    "    \"\"\"Compute the contours of characters in the CAPTCHA image.\"\"\"\n",
    "    return cv2.findContours(\n",
    "        captcha_image_thresholded, cv2.RETR_EXTERNAL, cv2.CHAIN_APPROX_SIMPLE\n",
    "    )[0]\n",
    "\n",
    "\n",
    "def compute_bounding_rectangles(contours):\n",
    "    \"\"\"Computes the bounding rectangles of the contours.\"\"\"\n",
    "    return list(map(cv2.boundingRect, contours))\n",
    "\n",
    "\n",
    "def split_fat_rectangles(rectangles):\n",
    "    \"\"\"Splits fat rectangles into two rectangles.\"\"\"\n",
    "    letter_bounding_rectangles = []\n",
    "    for rectangle in rectangles:\n",
    "        (x, y, w, h) = rectangle\n",
    "        if w / h > 1.25:\n",
    "            half_width = int(w / 2)\n",
    "            letter_bounding_rectangles.append((x, y, half_width, h))\n",
    "            letter_bounding_rectangles.append((x + half_width, y, half_width, h))\n",
    "        else:\n",
    "            letter_bounding_rectangles.append(rectangle)\n",
    "    return letter_bounding_rectangles\n",
    "\n",
    "\n",
    "def get_character_images(rectangles, image):\n",
    "    \"\"\"Extracts the characters defined by bounding rectangles.\"\"\"\n",
    "    char_images = []\n",
    "    for rect in rectangles:\n",
    "        x, y, w, h = rect\n",
    "        char_image = image[y - 1 : y + h + 1, x - 1 : x + w + 1]\n",
    "        char_images.append(char_image)\n",
    "    return char_images\n",
    "\n",
    "\n",
    "def sort_bounding_rectangles(rects):\n",
    "    \"\"\"Sorts bounding rectangles by x coordinate.\"\"\"\n",
    "    return sorted(rects, key=lambda x: float(x[0]))\n",
    "\n",
    "\n",
    "def grayscale(image):\n",
    "    \"\"\"Grayscales image using openCV.\"\"\"\n",
    "    return cv2.cvtColor(image, cv2.COLOR_BGR2GRAY)\n",
    "\n",
    "\n",
    "def normalize_dimensions(image, desired_width=20, desired_height=20):\n",
    "    \"\"\"Resizes image to desired dimensions using white padding and rescaling.\"\"\"\n",
    "    (h, w) = image.shape[:2]\n",
    "    if w > h:\n",
    "        image = imutils.resize(image, width=desired_width)\n",
    "    else:\n",
    "        image = imutils.resize(image, height=desired_height)\n",
    "    width_padding = int((desired_width - image.shape[1]) / 2)\n",
    "    height_padding = int((desired_height - image.shape[0]) / 2)\n",
    "    WHITE = [255, 255, 255]\n",
    "    image_with_border = cv2.copyMakeBorder(\n",
    "        image,\n",
    "        height_padding,\n",
    "        height_padding,\n",
    "        width_padding,\n",
    "        width_padding,\n",
    "        cv2.BORDER_CONSTANT,\n",
    "        value=WHITE,\n",
    "    )\n",
    "    image_with_border_resized = cv2.resize(\n",
    "        image_with_border, (desired_width, desired_height), interpolation=cv2.INTER_AREA\n",
    "    )\n",
    "    return image_with_border_resized\n",
    "\n",
    "\n",
    "def reshape_for_keras(image):\n",
    "    \"\"\"Adds a dummy dimension to fit keras's input requirements.\"\"\"\n",
    "    return np.expand_dims(image, axis=2)\n",
    "\n",
    "\n",
    "def CAPTCHA_to_characters_pipeline(CAPTCHA):\n",
    "    \"\"\"Crop the character of a CAPTCHA.\"\"\"\n",
    "    captcha_image = read_CAPTCHA_image(CAPTCHA)\n",
    "    captcha_image_grayscaled = grayscale_CAPTCHA_image(captcha_image)\n",
    "    captcha_image_thresholded = threshold_CAPTCHA_image(captcha_image_grayscaled)\n",
    "    captcha_image_dilated = dilate_characters(captcha_image_thresholded)\n",
    "    captcha_image_contours = find_CAPTCHA_contours(captcha_image_dilated)\n",
    "    character_bounding_rectangles = split_fat_rectangles(\n",
    "        compute_bounding_rectangles(captcha_image_contours)\n",
    "    )\n",
    "    character_bounding_rectangles = sort_bounding_rectangles(\n",
    "        character_bounding_rectangles\n",
    "    )\n",
    "    character_images = get_character_images(\n",
    "        character_bounding_rectangles, captcha_image\n",
    "    )\n",
    "    return character_images"
   ]
  },
  {
   "cell_type": "code",
   "execution_count": 4,
   "metadata": {},
   "outputs": [
    {
     "data": {
      "application/javascript": [
       "\n",
       "            setTimeout(function() {\n",
       "                var nbb_cell_id = 4;\n",
       "                var nbb_unformatted_code = \"def load_classifier():\\n    \\\"\\\"\\\"Load the pretrained CNN.\\\"\\\"\\\"\\n    from keras.models import Sequential\\n    from keras.layers.convolutional import Conv2D, MaxPooling2D\\n    from keras.layers.core import Flatten, Dense\\n    import cv2\\n    import imutils\\n    import pickle\\n    import numpy as np\\n\\n    num_classes = 32\\n    CNN_model = Sequential()\\n    CNN_model.add(\\n        Conv2D(20, (5, 5), padding=\\\"same\\\", input_shape=(20, 20, 1), activation=\\\"relu\\\")\\n    )\\n    CNN_model.add(MaxPooling2D(pool_size=(2, 2), strides=(2, 2)))\\n    CNN_model.add(Conv2D(50, (5, 5), padding=\\\"same\\\", activation=\\\"relu\\\"))\\n    CNN_model.add(MaxPooling2D(pool_size=(2, 2), strides=(2, 2)))\\n    CNN_model.add(Flatten())\\n    CNN_model.add(Dense(512, activation=\\\"relu\\\"))\\n    CNN_model.add(Dense(num_classes, activation=\\\"softmax\\\"))\\n    CNN_model.compile(\\n        loss=\\\"categorical_crossentropy\\\", optimizer=\\\"adam\\\", metrics=[\\\"accuracy\\\"]\\n    )\\n    CNN_model.load_weights(\\\"weights.h5\\\")\\n    return CNN_model\";\n",
       "                var nbb_formatted_code = \"def load_classifier():\\n    \\\"\\\"\\\"Load the pretrained CNN.\\\"\\\"\\\"\\n    from keras.models import Sequential\\n    from keras.layers.convolutional import Conv2D, MaxPooling2D\\n    from keras.layers.core import Flatten, Dense\\n    import cv2\\n    import imutils\\n    import pickle\\n    import numpy as np\\n\\n    num_classes = 32\\n    CNN_model = Sequential()\\n    CNN_model.add(\\n        Conv2D(20, (5, 5), padding=\\\"same\\\", input_shape=(20, 20, 1), activation=\\\"relu\\\")\\n    )\\n    CNN_model.add(MaxPooling2D(pool_size=(2, 2), strides=(2, 2)))\\n    CNN_model.add(Conv2D(50, (5, 5), padding=\\\"same\\\", activation=\\\"relu\\\"))\\n    CNN_model.add(MaxPooling2D(pool_size=(2, 2), strides=(2, 2)))\\n    CNN_model.add(Flatten())\\n    CNN_model.add(Dense(512, activation=\\\"relu\\\"))\\n    CNN_model.add(Dense(num_classes, activation=\\\"softmax\\\"))\\n    CNN_model.compile(\\n        loss=\\\"categorical_crossentropy\\\", optimizer=\\\"adam\\\", metrics=[\\\"accuracy\\\"]\\n    )\\n    CNN_model.load_weights(\\\"weights.h5\\\")\\n    return CNN_model\";\n",
       "                var nbb_cells = Jupyter.notebook.get_cells();\n",
       "                for (var i = 0; i < nbb_cells.length; ++i) {\n",
       "                    if (nbb_cells[i].input_prompt_number == nbb_cell_id) {\n",
       "                        if (nbb_cells[i].get_text() == nbb_unformatted_code) {\n",
       "                             nbb_cells[i].set_text(nbb_formatted_code);\n",
       "                        }\n",
       "                        break;\n",
       "                    }\n",
       "                }\n",
       "            }, 500);\n",
       "            "
      ],
      "text/plain": [
       "<IPython.core.display.Javascript object>"
      ]
     },
     "metadata": {},
     "output_type": "display_data"
    }
   ],
   "source": [
    "def load_classifier():\n",
    "    \"\"\"Load the pretrained CNN.\"\"\"\n",
    "    from keras.models import Sequential\n",
    "    from keras.layers.convolutional import Conv2D, MaxPooling2D\n",
    "    from keras.layers.core import Flatten, Dense\n",
    "    import cv2\n",
    "    import imutils\n",
    "    import pickle\n",
    "    import numpy as np\n",
    "\n",
    "    num_classes = 32\n",
    "    CNN_model = Sequential()\n",
    "    CNN_model.add(\n",
    "        Conv2D(20, (5, 5), padding=\"same\", input_shape=(20, 20, 1), activation=\"relu\")\n",
    "    )\n",
    "    CNN_model.add(MaxPooling2D(pool_size=(2, 2), strides=(2, 2)))\n",
    "    CNN_model.add(Conv2D(50, (5, 5), padding=\"same\", activation=\"relu\"))\n",
    "    CNN_model.add(MaxPooling2D(pool_size=(2, 2), strides=(2, 2)))\n",
    "    CNN_model.add(Flatten())\n",
    "    CNN_model.add(Dense(512, activation=\"relu\"))\n",
    "    CNN_model.add(Dense(num_classes, activation=\"softmax\"))\n",
    "    CNN_model.compile(\n",
    "        loss=\"categorical_crossentropy\", optimizer=\"adam\", metrics=[\"accuracy\"]\n",
    "    )\n",
    "    CNN_model.load_weights(\"weights.h5\")\n",
    "    return CNN_model"
   ]
  },
  {
   "cell_type": "code",
   "execution_count": 5,
   "metadata": {},
   "outputs": [
    {
     "data": {
      "application/javascript": [
       "\n",
       "            setTimeout(function() {\n",
       "                var nbb_cell_id = 5;\n",
       "                var nbb_unformatted_code = \"def load_label_binarizer():\\n    \\\"\\\"\\\"Load the label binarizer.\\\"\\\"\\\"\\n    return pickle.load(open(\\\"binarizer.pkl\\\", \\\"rb\\\"))\";\n",
       "                var nbb_formatted_code = \"def load_label_binarizer():\\n    \\\"\\\"\\\"Load the label binarizer.\\\"\\\"\\\"\\n    return pickle.load(open(\\\"binarizer.pkl\\\", \\\"rb\\\"))\";\n",
       "                var nbb_cells = Jupyter.notebook.get_cells();\n",
       "                for (var i = 0; i < nbb_cells.length; ++i) {\n",
       "                    if (nbb_cells[i].input_prompt_number == nbb_cell_id) {\n",
       "                        if (nbb_cells[i].get_text() == nbb_unformatted_code) {\n",
       "                             nbb_cells[i].set_text(nbb_formatted_code);\n",
       "                        }\n",
       "                        break;\n",
       "                    }\n",
       "                }\n",
       "            }, 500);\n",
       "            "
      ],
      "text/plain": [
       "<IPython.core.display.Javascript object>"
      ]
     },
     "metadata": {},
     "output_type": "display_data"
    }
   ],
   "source": [
    "def load_label_binarizer():\n",
    "    \"\"\"Load the label binarizer.\"\"\"\n",
    "    return pickle.load(open(\"binarizer.pkl\", \"rb\"))"
   ]
  },
  {
   "cell_type": "code",
   "execution_count": 6,
   "metadata": {},
   "outputs": [
    {
     "data": {
      "application/javascript": [
       "\n",
       "            setTimeout(function() {\n",
       "                var nbb_cell_id = 6;\n",
       "                var nbb_unformatted_code = \"def load_model():\\n    \\\"\\\"\\\"Loads the CNN model and label binarizer.\\\"\\\"\\\"\\n    CNN_model = load_classifier()\\n    label_binarizer = load_label_binarizer()\\n    return CNN_model, label_binarizer\";\n",
       "                var nbb_formatted_code = \"def load_model():\\n    \\\"\\\"\\\"Loads the CNN model and label binarizer.\\\"\\\"\\\"\\n    CNN_model = load_classifier()\\n    label_binarizer = load_label_binarizer()\\n    return CNN_model, label_binarizer\";\n",
       "                var nbb_cells = Jupyter.notebook.get_cells();\n",
       "                for (var i = 0; i < nbb_cells.length; ++i) {\n",
       "                    if (nbb_cells[i].input_prompt_number == nbb_cell_id) {\n",
       "                        if (nbb_cells[i].get_text() == nbb_unformatted_code) {\n",
       "                             nbb_cells[i].set_text(nbb_formatted_code);\n",
       "                        }\n",
       "                        break;\n",
       "                    }\n",
       "                }\n",
       "            }, 500);\n",
       "            "
      ],
      "text/plain": [
       "<IPython.core.display.Javascript object>"
      ]
     },
     "metadata": {},
     "output_type": "display_data"
    }
   ],
   "source": [
    "def load_model():\n",
    "    \"\"\"Loads the CNN model and label binarizer.\"\"\"\n",
    "    CNN_model = load_classifier()\n",
    "    label_binarizer = load_label_binarizer()\n",
    "    return CNN_model, label_binarizer"
   ]
  },
  {
   "cell_type": "code",
   "execution_count": 7,
   "metadata": {},
   "outputs": [
    {
     "data": {
      "application/javascript": [
       "\n",
       "            setTimeout(function() {\n",
       "                var nbb_cell_id = 7;\n",
       "                var nbb_unformatted_code = \"def predict_on_characters(character_images, model, label_binarizer):\\n    \\\"\\\"\\\"Predicts each character and then outputs the resulting prediction.\\\"\\\"\\\"\\n    X = []\\n    for image in character_images:\\n        image_gray = grayscale(image)\\n        image_normalized = normalize_dimensions(image_gray)\\n        image_reshaped_for_keras = reshape_for_keras(image_normalized)\\n        X.append(image_reshaped_for_keras)\\n\\n    X = np.array(X, dtype=\\\"float\\\") / 255.0\\n    pred = model.predict(X)\\n    predicted_text = label_binarizer.inverse_transform(pred)\\n    return predicted_text\";\n",
       "                var nbb_formatted_code = \"def predict_on_characters(character_images, model, label_binarizer):\\n    \\\"\\\"\\\"Predicts each character and then outputs the resulting prediction.\\\"\\\"\\\"\\n    X = []\\n    for image in character_images:\\n        image_gray = grayscale(image)\\n        image_normalized = normalize_dimensions(image_gray)\\n        image_reshaped_for_keras = reshape_for_keras(image_normalized)\\n        X.append(image_reshaped_for_keras)\\n\\n    X = np.array(X, dtype=\\\"float\\\") / 255.0\\n    pred = model.predict(X)\\n    predicted_text = label_binarizer.inverse_transform(pred)\\n    return predicted_text\";\n",
       "                var nbb_cells = Jupyter.notebook.get_cells();\n",
       "                for (var i = 0; i < nbb_cells.length; ++i) {\n",
       "                    if (nbb_cells[i].input_prompt_number == nbb_cell_id) {\n",
       "                        if (nbb_cells[i].get_text() == nbb_unformatted_code) {\n",
       "                             nbb_cells[i].set_text(nbb_formatted_code);\n",
       "                        }\n",
       "                        break;\n",
       "                    }\n",
       "                }\n",
       "            }, 500);\n",
       "            "
      ],
      "text/plain": [
       "<IPython.core.display.Javascript object>"
      ]
     },
     "metadata": {},
     "output_type": "display_data"
    }
   ],
   "source": [
    "def predict_on_characters(character_images, model, label_binarizer):\n",
    "    \"\"\"Predicts each character and then outputs the resulting prediction.\"\"\"\n",
    "    X = []\n",
    "    for image in character_images:\n",
    "        image_gray = grayscale(image)\n",
    "        image_normalized = normalize_dimensions(image_gray)\n",
    "        image_reshaped_for_keras = reshape_for_keras(image_normalized)\n",
    "        X.append(image_reshaped_for_keras)\n",
    "\n",
    "    X = np.array(X, dtype=\"float\") / 255.0\n",
    "    pred = model.predict(X)\n",
    "    predicted_text = label_binarizer.inverse_transform(pred)\n",
    "    return predicted_text"
   ]
  },
  {
   "cell_type": "code",
   "execution_count": 8,
   "metadata": {},
   "outputs": [
    {
     "name": "stderr",
     "output_type": "stream",
     "text": [
      "Using TensorFlow backend.\n"
     ]
    },
    {
     "name": "stdout",
     "output_type": "stream",
     "text": [
      "WARNING:tensorflow:From c:\\python\\python37\\lib\\site-packages\\keras\\backend\\tensorflow_backend.py:66: The name tf.get_default_graph is deprecated. Please use tf.compat.v1.get_default_graph instead.\n",
      "\n",
      "WARNING:tensorflow:From c:\\python\\python37\\lib\\site-packages\\keras\\backend\\tensorflow_backend.py:541: The name tf.placeholder is deprecated. Please use tf.compat.v1.placeholder instead.\n",
      "\n",
      "WARNING:tensorflow:From c:\\python\\python37\\lib\\site-packages\\keras\\backend\\tensorflow_backend.py:4432: The name tf.random_uniform is deprecated. Please use tf.random.uniform instead.\n",
      "\n",
      "WARNING:tensorflow:From c:\\python\\python37\\lib\\site-packages\\keras\\backend\\tensorflow_backend.py:4267: The name tf.nn.max_pool is deprecated. Please use tf.nn.max_pool2d instead.\n",
      "\n",
      "WARNING:tensorflow:From c:\\python\\python37\\lib\\site-packages\\keras\\optimizers.py:793: The name tf.train.Optimizer is deprecated. Please use tf.compat.v1.train.Optimizer instead.\n",
      "\n",
      "WARNING:tensorflow:From c:\\python\\python37\\lib\\site-packages\\keras\\backend\\tensorflow_backend.py:3576: The name tf.log is deprecated. Please use tf.math.log instead.\n",
      "\n",
      "WARNING:tensorflow:From c:\\python\\python37\\lib\\site-packages\\keras\\backend\\tensorflow_backend.py:190: The name tf.get_default_session is deprecated. Please use tf.compat.v1.get_default_session instead.\n",
      "\n",
      "WARNING:tensorflow:From c:\\python\\python37\\lib\\site-packages\\keras\\backend\\tensorflow_backend.py:197: The name tf.ConfigProto is deprecated. Please use tf.compat.v1.ConfigProto instead.\n",
      "\n",
      "WARNING:tensorflow:From c:\\python\\python37\\lib\\site-packages\\keras\\backend\\tensorflow_backend.py:203: The name tf.Session is deprecated. Please use tf.compat.v1.Session instead.\n",
      "\n",
      "WARNING:tensorflow:From c:\\python\\python37\\lib\\site-packages\\keras\\backend\\tensorflow_backend.py:207: The name tf.global_variables is deprecated. Please use tf.compat.v1.global_variables instead.\n",
      "\n",
      "WARNING:tensorflow:From c:\\python\\python37\\lib\\site-packages\\keras\\backend\\tensorflow_backend.py:216: The name tf.is_variable_initialized is deprecated. Please use tf.compat.v1.is_variable_initialized instead.\n",
      "\n",
      "WARNING:tensorflow:From c:\\python\\python37\\lib\\site-packages\\keras\\backend\\tensorflow_backend.py:223: The name tf.variables_initializer is deprecated. Please use tf.compat.v1.variables_initializer instead.\n",
      "\n"
     ]
    },
    {
     "name": "stderr",
     "output_type": "stream",
     "text": [
      "c:\\python\\python37\\lib\\site-packages\\sklearn\\utils\\deprecation.py:143: FutureWarning: The sklearn.preprocessing.label module is  deprecated in version 0.22 and will be removed in version 0.24. The corresponding classes / functions should instead be imported from sklearn.preprocessing. Anything that cannot be imported from sklearn.preprocessing is now part of the private API.\n",
      "  warnings.warn(message, FutureWarning)\n",
      "c:\\python\\python37\\lib\\site-packages\\sklearn\\base.py:334: UserWarning: Trying to unpickle estimator LabelBinarizer from version 0.21.3 when using version 0.23.1. This might lead to breaking code or invalid results. Use at your own risk.\n",
      "  UserWarning)\n"
     ]
    },
    {
     "data": {
      "application/javascript": [
       "\n",
       "            setTimeout(function() {\n",
       "                var nbb_cell_id = 8;\n",
       "                var nbb_unformatted_code = \"model, label_binarizer = load_model()\";\n",
       "                var nbb_formatted_code = \"model, label_binarizer = load_model()\";\n",
       "                var nbb_cells = Jupyter.notebook.get_cells();\n",
       "                for (var i = 0; i < nbb_cells.length; ++i) {\n",
       "                    if (nbb_cells[i].input_prompt_number == nbb_cell_id) {\n",
       "                        if (nbb_cells[i].get_text() == nbb_unformatted_code) {\n",
       "                             nbb_cells[i].set_text(nbb_formatted_code);\n",
       "                        }\n",
       "                        break;\n",
       "                    }\n",
       "                }\n",
       "            }, 500);\n",
       "            "
      ],
      "text/plain": [
       "<IPython.core.display.Javascript object>"
      ]
     },
     "metadata": {},
     "output_type": "display_data"
    }
   ],
   "source": [
    "model, label_binarizer = load_model()"
   ]
  },
  {
   "cell_type": "code",
   "execution_count": 12,
   "metadata": {},
   "outputs": [
    {
     "ename": "ZeroDivisionError",
     "evalue": "division by zero",
     "output_type": "error",
     "traceback": [
      "\u001b[1;31m---------------------------------------------------------------------------\u001b[0m",
      "\u001b[1;31mZeroDivisionError\u001b[0m                         Traceback (most recent call last)",
      "\u001b[1;32m<ipython-input-12-59da0aac4007>\u001b[0m in \u001b[0;36m<module>\u001b[1;34m\u001b[0m\n\u001b[0;32m     12\u001b[0m \u001b[0murllib\u001b[0m\u001b[1;33m.\u001b[0m\u001b[0mrequest\u001b[0m\u001b[1;33m.\u001b[0m\u001b[0murlretrieve\u001b[0m\u001b[1;33m(\u001b[0m\u001b[0msrc\u001b[0m\u001b[1;33m,\u001b[0m \u001b[1;34m\"captcha.png\"\u001b[0m\u001b[1;33m)\u001b[0m\u001b[1;33m\u001b[0m\u001b[1;33m\u001b[0m\u001b[0m\n\u001b[0;32m     13\u001b[0m pred = predict_on_characters(\n\u001b[1;32m---> 14\u001b[1;33m     \u001b[0mCAPTCHA_to_characters_pipeline\u001b[0m\u001b[1;33m(\u001b[0m\u001b[1;34m\"captcha.png\"\u001b[0m\u001b[1;33m)\u001b[0m\u001b[1;33m,\u001b[0m \u001b[0mmodel\u001b[0m\u001b[1;33m,\u001b[0m \u001b[0mlabel_binarizer\u001b[0m\u001b[1;33m\u001b[0m\u001b[1;33m\u001b[0m\u001b[0m\n\u001b[0m\u001b[0;32m     15\u001b[0m )\n\u001b[0;32m     16\u001b[0m \u001b[0mprint\u001b[0m\u001b[1;33m(\u001b[0m\u001b[0mpred\u001b[0m\u001b[1;33m)\u001b[0m\u001b[1;33m\u001b[0m\u001b[1;33m\u001b[0m\u001b[0m\n",
      "\u001b[1;32m<ipython-input-3-61b89f6576d4>\u001b[0m in \u001b[0;36mCAPTCHA_to_characters_pipeline\u001b[1;34m(CAPTCHA)\u001b[0m\n\u001b[0;32m    112\u001b[0m     \u001b[0mcaptcha_image_contours\u001b[0m \u001b[1;33m=\u001b[0m \u001b[0mfind_CAPTCHA_contours\u001b[0m\u001b[1;33m(\u001b[0m\u001b[0mcaptcha_image_dilated\u001b[0m\u001b[1;33m)\u001b[0m\u001b[1;33m\u001b[0m\u001b[1;33m\u001b[0m\u001b[0m\n\u001b[0;32m    113\u001b[0m     character_bounding_rectangles = split_fat_rectangles(\n\u001b[1;32m--> 114\u001b[1;33m         \u001b[0mcompute_bounding_rectangles\u001b[0m\u001b[1;33m(\u001b[0m\u001b[0mcaptcha_image_contours\u001b[0m\u001b[1;33m)\u001b[0m\u001b[1;33m\u001b[0m\u001b[1;33m\u001b[0m\u001b[0m\n\u001b[0m\u001b[0;32m    115\u001b[0m     )\n\u001b[0;32m    116\u001b[0m     character_bounding_rectangles = sort_bounding_rectangles(\n",
      "\u001b[1;32m<ipython-input-3-61b89f6576d4>\u001b[0m in \u001b[0;36msplit_fat_rectangles\u001b[1;34m(rectangles)\u001b[0m\n\u001b[0;32m     45\u001b[0m     \u001b[1;32mfor\u001b[0m \u001b[0mrectangle\u001b[0m \u001b[1;32min\u001b[0m \u001b[0mrectangles\u001b[0m\u001b[1;33m:\u001b[0m\u001b[1;33m\u001b[0m\u001b[1;33m\u001b[0m\u001b[0m\n\u001b[0;32m     46\u001b[0m         \u001b[1;33m(\u001b[0m\u001b[0mx\u001b[0m\u001b[1;33m,\u001b[0m \u001b[0my\u001b[0m\u001b[1;33m,\u001b[0m \u001b[0mw\u001b[0m\u001b[1;33m,\u001b[0m \u001b[0mh\u001b[0m\u001b[1;33m)\u001b[0m \u001b[1;33m=\u001b[0m \u001b[0mrectangle\u001b[0m\u001b[1;33m\u001b[0m\u001b[1;33m\u001b[0m\u001b[0m\n\u001b[1;32m---> 47\u001b[1;33m         \u001b[1;32mif\u001b[0m \u001b[0mw\u001b[0m \u001b[1;33m/\u001b[0m \u001b[0mh\u001b[0m \u001b[1;33m>\u001b[0m \u001b[1;36m1.25\u001b[0m\u001b[1;33m:\u001b[0m\u001b[1;33m\u001b[0m\u001b[1;33m\u001b[0m\u001b[0m\n\u001b[0m\u001b[0;32m     48\u001b[0m             \u001b[0mhalf_width\u001b[0m \u001b[1;33m=\u001b[0m \u001b[0mint\u001b[0m\u001b[1;33m(\u001b[0m\u001b[0mw\u001b[0m \u001b[1;33m/\u001b[0m \u001b[1;36m2\u001b[0m\u001b[1;33m)\u001b[0m\u001b[1;33m\u001b[0m\u001b[1;33m\u001b[0m\u001b[0m\n\u001b[0;32m     49\u001b[0m             \u001b[0mletter_bounding_rectangles\u001b[0m\u001b[1;33m.\u001b[0m\u001b[0mappend\u001b[0m\u001b[1;33m(\u001b[0m\u001b[1;33m(\u001b[0m\u001b[0mx\u001b[0m\u001b[1;33m,\u001b[0m \u001b[0my\u001b[0m\u001b[1;33m,\u001b[0m \u001b[0mhalf_width\u001b[0m\u001b[1;33m,\u001b[0m \u001b[0mh\u001b[0m\u001b[1;33m)\u001b[0m\u001b[1;33m)\u001b[0m\u001b[1;33m\u001b[0m\u001b[1;33m\u001b[0m\u001b[0m\n",
      "\u001b[1;31mZeroDivisionError\u001b[0m: division by zero"
     ]
    },
    {
     "data": {
      "application/javascript": [
       "\n",
       "            setTimeout(function() {\n",
       "                var nbb_cell_id = 12;\n",
       "                var nbb_unformatted_code = \"import urllib.request\\n\\noptions = webdriver.ChromeOptions()\\noptions.add_argument(\\\"--start-maximized\\\")\\ndriver = webdriver.Chrome(options=options)\\ndriver.get(\\n    \\\"https://ml4cs.com/CAPTCHA/index.php/break-me-use-a-bot-to-crack-the-captcha/\\\"\\n)\\ntime.sleep(5)\\ncaptcha_image = driver.find_element_by_css_selector(\\\".wpcf7-captcha-captcha-170\\\")\\nsrc = captcha_image.get_attribute(\\\"src\\\")\\nurllib.request.urlretrieve(src, \\\"captcha.png\\\")\\npred = predict_on_characters(\\n    CAPTCHA_to_characters_pipeline(\\\"captcha.png\\\"), model, label_binarizer\\n)\\nprint(pred)\\ncaptcha_input = driver.find_element_by_name(\\\"captcha-170\\\")\\ncaptcha_input.send_keys(pred)\\ncaptcha_input.submit()\\ntime.sleep(5)\\ndriver.quit()\";\n",
       "                var nbb_formatted_code = \"import urllib.request\\n\\noptions = webdriver.ChromeOptions()\\noptions.add_argument(\\\"--start-maximized\\\")\\ndriver = webdriver.Chrome(options=options)\\ndriver.get(\\n    \\\"https://ml4cs.com/CAPTCHA/index.php/break-me-use-a-bot-to-crack-the-captcha/\\\"\\n)\\ntime.sleep(5)\\ncaptcha_image = driver.find_element_by_css_selector(\\\".wpcf7-captcha-captcha-170\\\")\\nsrc = captcha_image.get_attribute(\\\"src\\\")\\nurllib.request.urlretrieve(src, \\\"captcha.png\\\")\\npred = predict_on_characters(\\n    CAPTCHA_to_characters_pipeline(\\\"captcha.png\\\"), model, label_binarizer\\n)\\nprint(pred)\\ncaptcha_input = driver.find_element_by_name(\\\"captcha-170\\\")\\ncaptcha_input.send_keys(pred)\\ncaptcha_input.submit()\\ntime.sleep(5)\\ndriver.quit()\";\n",
       "                var nbb_cells = Jupyter.notebook.get_cells();\n",
       "                for (var i = 0; i < nbb_cells.length; ++i) {\n",
       "                    if (nbb_cells[i].input_prompt_number == nbb_cell_id) {\n",
       "                        if (nbb_cells[i].get_text() == nbb_unformatted_code) {\n",
       "                             nbb_cells[i].set_text(nbb_formatted_code);\n",
       "                        }\n",
       "                        break;\n",
       "                    }\n",
       "                }\n",
       "            }, 500);\n",
       "            "
      ],
      "text/plain": [
       "<IPython.core.display.Javascript object>"
      ]
     },
     "metadata": {},
     "output_type": "display_data"
    }
   ],
   "source": [
    "import urllib.request\n",
    "\n",
    "options = webdriver.ChromeOptions()\n",
    "options.add_argument(\"--start-maximized\")\n",
    "driver = webdriver.Chrome(options=options)\n",
    "driver.get(\n",
    "    \"https://ml4cs.com/CAPTCHA/index.php/break-me-use-a-bot-to-crack-the-captcha/\"\n",
    ")\n",
    "time.sleep(5)\n",
    "captcha_image = driver.find_element_by_css_selector(\".wpcf7-captcha-captcha-170\")\n",
    "src = captcha_image.get_attribute(\"src\")\n",
    "urllib.request.urlretrieve(src, \"captcha.png\")\n",
    "pred = predict_on_characters(\n",
    "    CAPTCHA_to_characters_pipeline(\"captcha.png\"), model, label_binarizer\n",
    ")\n",
    "print(pred)\n",
    "captcha_input = driver.find_element_by_name(\"captcha-170\")\n",
    "captcha_input.send_keys(pred)\n",
    "captcha_input.submit()\n",
    "time.sleep(5)\n",
    "driver.quit()"
   ]
  },
  {
   "cell_type": "code",
   "execution_count": null,
   "metadata": {},
   "outputs": [],
   "source": []
  }
 ],
 "metadata": {
  "kernelspec": {
   "display_name": "Python 3",
   "language": "python",
   "name": "python3"
  },
  "language_info": {
   "codemirror_mode": {
    "name": "ipython",
    "version": 3
   },
   "file_extension": ".py",
   "mimetype": "text/x-python",
   "name": "python",
   "nbconvert_exporter": "python",
   "pygments_lexer": "ipython3",
   "version": "3.7.7"
  }
 },
 "nbformat": 4,
 "nbformat_minor": 2
}
