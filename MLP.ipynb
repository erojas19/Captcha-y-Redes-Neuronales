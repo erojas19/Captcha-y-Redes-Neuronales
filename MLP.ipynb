{
 "cells": [
  {
   "cell_type": "code",
   "execution_count": 1,
   "metadata": {},
   "outputs": [
    {
     "data": {
      "application/javascript": [
       "\n",
       "            setTimeout(function() {\n",
       "                var nbb_cell_id = 1;\n",
       "                var nbb_unformatted_code = \"%load_ext nb_black\";\n",
       "                var nbb_formatted_code = \"%load_ext nb_black\";\n",
       "                var nbb_cells = Jupyter.notebook.get_cells();\n",
       "                for (var i = 0; i < nbb_cells.length; ++i) {\n",
       "                    if (nbb_cells[i].input_prompt_number == nbb_cell_id) {\n",
       "                        if (nbb_cells[i].get_text() == nbb_unformatted_code) {\n",
       "                             nbb_cells[i].set_text(nbb_formatted_code);\n",
       "                        }\n",
       "                        break;\n",
       "                    }\n",
       "                }\n",
       "            }, 500);\n",
       "            "
      ],
      "text/plain": [
       "<IPython.core.display.Javascript object>"
      ]
     },
     "metadata": {},
     "output_type": "display_data"
    }
   ],
   "source": [
    "%load_ext nb_black"
   ]
  },
  {
   "cell_type": "code",
   "execution_count": 2,
   "metadata": {},
   "outputs": [
    {
     "name": "stderr",
     "output_type": "stream",
     "text": [
      "Using TensorFlow backend.\n"
     ]
    },
    {
     "data": {
      "application/javascript": [
       "\n",
       "            setTimeout(function() {\n",
       "                var nbb_cell_id = 2;\n",
       "                var nbb_unformatted_code = \"import cv2\\nimport imutils\\nimport numpy as np\\nfrom imutils import paths\\nimport os\\nfrom sklearn.preprocessing import LabelBinarizer\\nfrom tensorflow.keras import backend\\nfrom keras.models import Sequential\\nfrom keras.layers.core import Flatten, Dense\\nfrom keras.optimizers import SGD\\n\\n\\ndef read_image(image_file_path):\\n    \\\"\\\"\\\"Reads in the image using openCV\\\"\\\"\\\"\\n    return cv2.imread(image_file_path)\";\n",
       "                var nbb_formatted_code = \"import cv2\\nimport imutils\\nimport numpy as np\\nfrom imutils import paths\\nimport os\\nfrom sklearn.preprocessing import LabelBinarizer\\nfrom tensorflow.keras import backend\\nfrom keras.models import Sequential\\nfrom keras.layers.core import Flatten, Dense\\nfrom keras.optimizers import SGD\\n\\n\\ndef read_image(image_file_path):\\n    \\\"\\\"\\\"Reads in the image using openCV\\\"\\\"\\\"\\n    return cv2.imread(image_file_path)\";\n",
       "                var nbb_cells = Jupyter.notebook.get_cells();\n",
       "                for (var i = 0; i < nbb_cells.length; ++i) {\n",
       "                    if (nbb_cells[i].input_prompt_number == nbb_cell_id) {\n",
       "                        if (nbb_cells[i].get_text() == nbb_unformatted_code) {\n",
       "                             nbb_cells[i].set_text(nbb_formatted_code);\n",
       "                        }\n",
       "                        break;\n",
       "                    }\n",
       "                }\n",
       "            }, 500);\n",
       "            "
      ],
      "text/plain": [
       "<IPython.core.display.Javascript object>"
      ]
     },
     "metadata": {},
     "output_type": "display_data"
    }
   ],
   "source": [
    "import cv2\n",
    "import imutils\n",
    "import numpy as np\n",
    "from imutils import paths\n",
    "import os\n",
    "from sklearn.preprocessing import LabelBinarizer\n",
    "from tensorflow.keras import backend\n",
    "from keras.models import Sequential\n",
    "from keras.layers.core import Flatten, Dense\n",
    "from keras.optimizers import SGD\n",
    "\n",
    "\n",
    "def read_image(image_file_path):\n",
    "    \"\"\"Reads in the image using openCV\"\"\"\n",
    "    return cv2.imread(image_file_path)"
   ]
  },
  {
   "cell_type": "code",
   "execution_count": 3,
   "metadata": {},
   "outputs": [
    {
     "data": {
      "application/javascript": [
       "\n",
       "            setTimeout(function() {\n",
       "                var nbb_cell_id = 3;\n",
       "                var nbb_unformatted_code = \"def grayscale(image):\\n    \\\"\\\"\\\"Grayscales image using openCV.\\\"\\\"\\\"\\n    return cv2.cvtColor(image, cv2.COLOR_BGR2GRAY)\";\n",
       "                var nbb_formatted_code = \"def grayscale(image):\\n    \\\"\\\"\\\"Grayscales image using openCV.\\\"\\\"\\\"\\n    return cv2.cvtColor(image, cv2.COLOR_BGR2GRAY)\";\n",
       "                var nbb_cells = Jupyter.notebook.get_cells();\n",
       "                for (var i = 0; i < nbb_cells.length; ++i) {\n",
       "                    if (nbb_cells[i].input_prompt_number == nbb_cell_id) {\n",
       "                        if (nbb_cells[i].get_text() == nbb_unformatted_code) {\n",
       "                             nbb_cells[i].set_text(nbb_formatted_code);\n",
       "                        }\n",
       "                        break;\n",
       "                    }\n",
       "                }\n",
       "            }, 500);\n",
       "            "
      ],
      "text/plain": [
       "<IPython.core.display.Javascript object>"
      ]
     },
     "metadata": {},
     "output_type": "display_data"
    }
   ],
   "source": [
    "def grayscale(image):\n",
    "    \"\"\"Grayscales image using openCV.\"\"\"\n",
    "    return cv2.cvtColor(image, cv2.COLOR_BGR2GRAY)"
   ]
  },
  {
   "cell_type": "code",
   "execution_count": 4,
   "metadata": {},
   "outputs": [
    {
     "data": {
      "application/javascript": [
       "\n",
       "            setTimeout(function() {\n",
       "                var nbb_cell_id = 4;\n",
       "                var nbb_unformatted_code = \"def normalize_dimensions(image, desired_width=20, desired_height=20):\\n    \\\"\\\"\\\"Resizes image to desired dimensions using white padding and rescaling.\\\"\\\"\\\"\\n    (h, w) = image.shape[:2]\\n    if w > h:\\n        image = imutils.resize(image, width=desired_width)\\n    else:\\n        image = imutils.resize(image, height=desired_height)\\n    width_padding = int((desired_width - image.shape[1]) / 2)\\n    height_padding = int((desired_height - image.shape[0]) / 2)\\n    WHITE = [255, 255, 255]\\n    image_with_border = cv2.copyMakeBorder(\\n        image,\\n        height_padding,\\n        height_padding,\\n        width_padding,\\n        width_padding,\\n        cv2.BORDER_CONSTANT,\\n        value=WHITE,\\n    )\\n    image_with_border_resized = cv2.resize(\\n        image_with_border, (desired_width, desired_height), interpolation=cv2.INTER_AREA\\n    )\\n    return image_with_border_resized\";\n",
       "                var nbb_formatted_code = \"def normalize_dimensions(image, desired_width=20, desired_height=20):\\n    \\\"\\\"\\\"Resizes image to desired dimensions using white padding and rescaling.\\\"\\\"\\\"\\n    (h, w) = image.shape[:2]\\n    if w > h:\\n        image = imutils.resize(image, width=desired_width)\\n    else:\\n        image = imutils.resize(image, height=desired_height)\\n    width_padding = int((desired_width - image.shape[1]) / 2)\\n    height_padding = int((desired_height - image.shape[0]) / 2)\\n    WHITE = [255, 255, 255]\\n    image_with_border = cv2.copyMakeBorder(\\n        image,\\n        height_padding,\\n        height_padding,\\n        width_padding,\\n        width_padding,\\n        cv2.BORDER_CONSTANT,\\n        value=WHITE,\\n    )\\n    image_with_border_resized = cv2.resize(\\n        image_with_border, (desired_width, desired_height), interpolation=cv2.INTER_AREA\\n    )\\n    return image_with_border_resized\";\n",
       "                var nbb_cells = Jupyter.notebook.get_cells();\n",
       "                for (var i = 0; i < nbb_cells.length; ++i) {\n",
       "                    if (nbb_cells[i].input_prompt_number == nbb_cell_id) {\n",
       "                        if (nbb_cells[i].get_text() == nbb_unformatted_code) {\n",
       "                             nbb_cells[i].set_text(nbb_formatted_code);\n",
       "                        }\n",
       "                        break;\n",
       "                    }\n",
       "                }\n",
       "            }, 500);\n",
       "            "
      ],
      "text/plain": [
       "<IPython.core.display.Javascript object>"
      ]
     },
     "metadata": {},
     "output_type": "display_data"
    }
   ],
   "source": [
    "def normalize_dimensions(image, desired_width=20, desired_height=20):\n",
    "    \"\"\"Resizes image to desired dimensions using white padding and rescaling.\"\"\"\n",
    "    (h, w) = image.shape[:2]\n",
    "    if w > h:\n",
    "        image = imutils.resize(image, width=desired_width)\n",
    "    else:\n",
    "        image = imutils.resize(image, height=desired_height)\n",
    "    width_padding = int((desired_width - image.shape[1]) / 2)\n",
    "    height_padding = int((desired_height - image.shape[0]) / 2)\n",
    "    WHITE = [255, 255, 255]\n",
    "    image_with_border = cv2.copyMakeBorder(\n",
    "        image,\n",
    "        height_padding,\n",
    "        height_padding,\n",
    "        width_padding,\n",
    "        width_padding,\n",
    "        cv2.BORDER_CONSTANT,\n",
    "        value=WHITE,\n",
    "    )\n",
    "    image_with_border_resized = cv2.resize(\n",
    "        image_with_border, (desired_width, desired_height), interpolation=cv2.INTER_AREA\n",
    "    )\n",
    "    return image_with_border_resized"
   ]
  },
  {
   "cell_type": "code",
   "execution_count": 5,
   "metadata": {},
   "outputs": [
    {
     "data": {
      "application/javascript": [
       "\n",
       "            setTimeout(function() {\n",
       "                var nbb_cell_id = 5;\n",
       "                var nbb_unformatted_code = \"def reshape_for_keras(image):\\n    \\\"\\\"\\\"Adds a dummy dimension to fit keras's input requirements.\\\"\\\"\\\"\\n    return np.expand_dims(image, axis=2)\";\n",
       "                var nbb_formatted_code = \"def reshape_for_keras(image):\\n    \\\"\\\"\\\"Adds a dummy dimension to fit keras's input requirements.\\\"\\\"\\\"\\n    return np.expand_dims(image, axis=2)\";\n",
       "                var nbb_cells = Jupyter.notebook.get_cells();\n",
       "                for (var i = 0; i < nbb_cells.length; ++i) {\n",
       "                    if (nbb_cells[i].input_prompt_number == nbb_cell_id) {\n",
       "                        if (nbb_cells[i].get_text() == nbb_unformatted_code) {\n",
       "                             nbb_cells[i].set_text(nbb_formatted_code);\n",
       "                        }\n",
       "                        break;\n",
       "                    }\n",
       "                }\n",
       "            }, 500);\n",
       "            "
      ],
      "text/plain": [
       "<IPython.core.display.Javascript object>"
      ]
     },
     "metadata": {},
     "output_type": "display_data"
    }
   ],
   "source": [
    "def reshape_for_keras(image):\n",
    "    \"\"\"Adds a dummy dimension to fit keras's input requirements.\"\"\"\n",
    "    return np.expand_dims(image, axis=2)"
   ]
  },
  {
   "cell_type": "code",
   "execution_count": 6,
   "metadata": {},
   "outputs": [
    {
     "data": {
      "application/javascript": [
       "\n",
       "            setTimeout(function() {\n",
       "                var nbb_cell_id = 6;\n",
       "                var nbb_unformatted_code = \"images = []\\nlabels = []\\ncaptcha_processing_output_folder = \\\"extracted_character_images\\\"\\nfor image_file_path in paths.list_images(captcha_processing_output_folder):\\n    image = read_image(image_file_path)\\n    image_gray = grayscale(image)\\n    image_normalized = normalize_dimensions(image_gray)\\n    #     image_reshaped_for_keras = reshape_for_keras(image_normalized)\\n    image_reshaped_for_keras = np.resize(image_normalized, (400,))\\n    images.append(image_reshaped_for_keras)\\n    label = image_file_path.split(os.path.sep)[-2]\\n    labels.append(label)\";\n",
       "                var nbb_formatted_code = \"images = []\\nlabels = []\\ncaptcha_processing_output_folder = \\\"extracted_character_images\\\"\\nfor image_file_path in paths.list_images(captcha_processing_output_folder):\\n    image = read_image(image_file_path)\\n    image_gray = grayscale(image)\\n    image_normalized = normalize_dimensions(image_gray)\\n    #     image_reshaped_for_keras = reshape_for_keras(image_normalized)\\n    image_reshaped_for_keras = np.resize(image_normalized, (400,))\\n    images.append(image_reshaped_for_keras)\\n    label = image_file_path.split(os.path.sep)[-2]\\n    labels.append(label)\";\n",
       "                var nbb_cells = Jupyter.notebook.get_cells();\n",
       "                for (var i = 0; i < nbb_cells.length; ++i) {\n",
       "                    if (nbb_cells[i].input_prompt_number == nbb_cell_id) {\n",
       "                        if (nbb_cells[i].get_text() == nbb_unformatted_code) {\n",
       "                             nbb_cells[i].set_text(nbb_formatted_code);\n",
       "                        }\n",
       "                        break;\n",
       "                    }\n",
       "                }\n",
       "            }, 500);\n",
       "            "
      ],
      "text/plain": [
       "<IPython.core.display.Javascript object>"
      ]
     },
     "metadata": {},
     "output_type": "display_data"
    }
   ],
   "source": [
    "images = []\n",
    "labels = []\n",
    "captcha_processing_output_folder = \"extracted_character_images\"\n",
    "for image_file_path in paths.list_images(captcha_processing_output_folder):\n",
    "    image = read_image(image_file_path)\n",
    "    image_gray = grayscale(image)\n",
    "    image_normalized = normalize_dimensions(image_gray)\n",
    "    #     image_reshaped_for_keras = reshape_for_keras(image_normalized)\n",
    "    image_reshaped_for_keras = np.resize(image_normalized, (400,))\n",
    "    images.append(image_reshaped_for_keras)\n",
    "    label = image_file_path.split(os.path.sep)[-2]\n",
    "    labels.append(label)"
   ]
  },
  {
   "cell_type": "code",
   "execution_count": 7,
   "metadata": {},
   "outputs": [
    {
     "data": {
      "application/javascript": [
       "\n",
       "            setTimeout(function() {\n",
       "                var nbb_cell_id = 7;\n",
       "                var nbb_unformatted_code = \"X = np.array(images, dtype=\\\"float\\\") / 255.0\\nlabels = np.array(labels)\";\n",
       "                var nbb_formatted_code = \"X = np.array(images, dtype=\\\"float\\\") / 255.0\\nlabels = np.array(labels)\";\n",
       "                var nbb_cells = Jupyter.notebook.get_cells();\n",
       "                for (var i = 0; i < nbb_cells.length; ++i) {\n",
       "                    if (nbb_cells[i].input_prompt_number == nbb_cell_id) {\n",
       "                        if (nbb_cells[i].get_text() == nbb_unformatted_code) {\n",
       "                             nbb_cells[i].set_text(nbb_formatted_code);\n",
       "                        }\n",
       "                        break;\n",
       "                    }\n",
       "                }\n",
       "            }, 500);\n",
       "            "
      ],
      "text/plain": [
       "<IPython.core.display.Javascript object>"
      ]
     },
     "metadata": {},
     "output_type": "display_data"
    }
   ],
   "source": [
    "X = np.array(images, dtype=\"float\") / 255.0\n",
    "labels = np.array(labels)"
   ]
  },
  {
   "cell_type": "code",
   "execution_count": 8,
   "metadata": {},
   "outputs": [
    {
     "data": {
      "application/javascript": [
       "\n",
       "            setTimeout(function() {\n",
       "                var nbb_cell_id = 8;\n",
       "                var nbb_unformatted_code = \"label_binarizer = LabelBinarizer().fit(labels)\\ny = label_binarizer.transform(labels)\";\n",
       "                var nbb_formatted_code = \"label_binarizer = LabelBinarizer().fit(labels)\\ny = label_binarizer.transform(labels)\";\n",
       "                var nbb_cells = Jupyter.notebook.get_cells();\n",
       "                for (var i = 0; i < nbb_cells.length; ++i) {\n",
       "                    if (nbb_cells[i].input_prompt_number == nbb_cell_id) {\n",
       "                        if (nbb_cells[i].get_text() == nbb_unformatted_code) {\n",
       "                             nbb_cells[i].set_text(nbb_formatted_code);\n",
       "                        }\n",
       "                        break;\n",
       "                    }\n",
       "                }\n",
       "            }, 500);\n",
       "            "
      ],
      "text/plain": [
       "<IPython.core.display.Javascript object>"
      ]
     },
     "metadata": {},
     "output_type": "display_data"
    }
   ],
   "source": [
    "label_binarizer = LabelBinarizer().fit(labels)\n",
    "y = label_binarizer.transform(labels)"
   ]
  },
  {
   "cell_type": "code",
   "execution_count": 9,
   "metadata": {},
   "outputs": [
    {
     "name": "stdout",
     "output_type": "stream",
     "text": [
      "(18340, 400)\n"
     ]
    },
    {
     "data": {
      "application/javascript": [
       "\n",
       "            setTimeout(function() {\n",
       "                var nbb_cell_id = 9;\n",
       "                var nbb_unformatted_code = \"print(X.shape)\";\n",
       "                var nbb_formatted_code = \"print(X.shape)\";\n",
       "                var nbb_cells = Jupyter.notebook.get_cells();\n",
       "                for (var i = 0; i < nbb_cells.length; ++i) {\n",
       "                    if (nbb_cells[i].input_prompt_number == nbb_cell_id) {\n",
       "                        if (nbb_cells[i].get_text() == nbb_unformatted_code) {\n",
       "                             nbb_cells[i].set_text(nbb_formatted_code);\n",
       "                        }\n",
       "                        break;\n",
       "                    }\n",
       "                }\n",
       "            }, 500);\n",
       "            "
      ],
      "text/plain": [
       "<IPython.core.display.Javascript object>"
      ]
     },
     "metadata": {},
     "output_type": "display_data"
    }
   ],
   "source": [
    "print(X.shape)"
   ]
  },
  {
   "cell_type": "code",
   "execution_count": 10,
   "metadata": {},
   "outputs": [
    {
     "name": "stdout",
     "output_type": "stream",
     "text": [
      "[0 1 0 0 0 0 0 0 0 0 0 0 0 0 0 0 0 0 0 0 0 0 0 0 0 0 0 0 0 0 0 0]\n"
     ]
    },
    {
     "data": {
      "application/javascript": [
       "\n",
       "            setTimeout(function() {\n",
       "                var nbb_cell_id = 10;\n",
       "                var nbb_unformatted_code = \"print(y[678])\";\n",
       "                var nbb_formatted_code = \"print(y[678])\";\n",
       "                var nbb_cells = Jupyter.notebook.get_cells();\n",
       "                for (var i = 0; i < nbb_cells.length; ++i) {\n",
       "                    if (nbb_cells[i].input_prompt_number == nbb_cell_id) {\n",
       "                        if (nbb_cells[i].get_text() == nbb_unformatted_code) {\n",
       "                             nbb_cells[i].set_text(nbb_formatted_code);\n",
       "                        }\n",
       "                        break;\n",
       "                    }\n",
       "                }\n",
       "            }, 500);\n",
       "            "
      ],
      "text/plain": [
       "<IPython.core.display.Javascript object>"
      ]
     },
     "metadata": {},
     "output_type": "display_data"
    }
   ],
   "source": [
    "print(y[678])"
   ]
  },
  {
   "cell_type": "code",
   "execution_count": 11,
   "metadata": {},
   "outputs": [
    {
     "data": {
      "application/javascript": [
       "\n",
       "            setTimeout(function() {\n",
       "                var nbb_cell_id = 11;\n",
       "                var nbb_unformatted_code = \"num_classes = len(set(labels))\";\n",
       "                var nbb_formatted_code = \"num_classes = len(set(labels))\";\n",
       "                var nbb_cells = Jupyter.notebook.get_cells();\n",
       "                for (var i = 0; i < nbb_cells.length; ++i) {\n",
       "                    if (nbb_cells[i].input_prompt_number == nbb_cell_id) {\n",
       "                        if (nbb_cells[i].get_text() == nbb_unformatted_code) {\n",
       "                             nbb_cells[i].set_text(nbb_formatted_code);\n",
       "                        }\n",
       "                        break;\n",
       "                    }\n",
       "                }\n",
       "            }, 500);\n",
       "            "
      ],
      "text/plain": [
       "<IPython.core.display.Javascript object>"
      ]
     },
     "metadata": {},
     "output_type": "display_data"
    }
   ],
   "source": [
    "num_classes = len(set(labels))"
   ]
  },
  {
   "cell_type": "code",
   "execution_count": 12,
   "metadata": {},
   "outputs": [
    {
     "name": "stdout",
     "output_type": "stream",
     "text": [
      "32\n"
     ]
    },
    {
     "data": {
      "application/javascript": [
       "\n",
       "            setTimeout(function() {\n",
       "                var nbb_cell_id = 12;\n",
       "                var nbb_unformatted_code = \"print(num_classes)\";\n",
       "                var nbb_formatted_code = \"print(num_classes)\";\n",
       "                var nbb_cells = Jupyter.notebook.get_cells();\n",
       "                for (var i = 0; i < nbb_cells.length; ++i) {\n",
       "                    if (nbb_cells[i].input_prompt_number == nbb_cell_id) {\n",
       "                        if (nbb_cells[i].get_text() == nbb_unformatted_code) {\n",
       "                             nbb_cells[i].set_text(nbb_formatted_code);\n",
       "                        }\n",
       "                        break;\n",
       "                    }\n",
       "                }\n",
       "            }, 500);\n",
       "            "
      ],
      "text/plain": [
       "<IPython.core.display.Javascript object>"
      ]
     },
     "metadata": {},
     "output_type": "display_data"
    }
   ],
   "source": [
    "print(num_classes)"
   ]
  },
  {
   "cell_type": "code",
   "execution_count": 14,
   "metadata": {},
   "outputs": [
    {
     "name": "stdout",
     "output_type": "stream",
     "text": [
      "(400,)\n"
     ]
    },
    {
     "data": {
      "application/javascript": [
       "\n",
       "            setTimeout(function() {\n",
       "                var nbb_cell_id = 14;\n",
       "                var nbb_unformatted_code = \"print(X[0].shape)\";\n",
       "                var nbb_formatted_code = \"print(X[0].shape)\";\n",
       "                var nbb_cells = Jupyter.notebook.get_cells();\n",
       "                for (var i = 0; i < nbb_cells.length; ++i) {\n",
       "                    if (nbb_cells[i].input_prompt_number == nbb_cell_id) {\n",
       "                        if (nbb_cells[i].get_text() == nbb_unformatted_code) {\n",
       "                             nbb_cells[i].set_text(nbb_formatted_code);\n",
       "                        }\n",
       "                        break;\n",
       "                    }\n",
       "                }\n",
       "            }, 500);\n",
       "            "
      ],
      "text/plain": [
       "<IPython.core.display.Javascript object>"
      ]
     },
     "metadata": {},
     "output_type": "display_data"
    }
   ],
   "source": [
    "print(X[0].shape)"
   ]
  },
  {
   "cell_type": "code",
   "execution_count": 15,
   "metadata": {},
   "outputs": [
    {
     "name": "stdout",
     "output_type": "stream",
     "text": [
      "WARNING:tensorflow:From c:\\python\\python37\\lib\\site-packages\\keras\\backend\\tensorflow_backend.py:66: The name tf.get_default_graph is deprecated. Please use tf.compat.v1.get_default_graph instead.\n",
      "\n",
      "WARNING:tensorflow:From c:\\python\\python37\\lib\\site-packages\\keras\\backend\\tensorflow_backend.py:541: The name tf.placeholder is deprecated. Please use tf.compat.v1.placeholder instead.\n",
      "\n",
      "WARNING:tensorflow:From c:\\python\\python37\\lib\\site-packages\\keras\\backend\\tensorflow_backend.py:4432: The name tf.random_uniform is deprecated. Please use tf.random.uniform instead.\n",
      "\n"
     ]
    },
    {
     "data": {
      "application/javascript": [
       "\n",
       "            setTimeout(function() {\n",
       "                var nbb_cell_id = 15;\n",
       "                var nbb_unformatted_code = \"model = Sequential()\\nmodel.add(Dense(55, input_shape=(400,), activation=\\\"relu\\\"))\\nmodel.add(Dense(55, activation=\\\"relu\\\"))\\nmodel.add(Dense(num_classes, activation=\\\"softmax\\\"))\";\n",
       "                var nbb_formatted_code = \"model = Sequential()\\nmodel.add(Dense(55, input_shape=(400,), activation=\\\"relu\\\"))\\nmodel.add(Dense(55, activation=\\\"relu\\\"))\\nmodel.add(Dense(num_classes, activation=\\\"softmax\\\"))\";\n",
       "                var nbb_cells = Jupyter.notebook.get_cells();\n",
       "                for (var i = 0; i < nbb_cells.length; ++i) {\n",
       "                    if (nbb_cells[i].input_prompt_number == nbb_cell_id) {\n",
       "                        if (nbb_cells[i].get_text() == nbb_unformatted_code) {\n",
       "                             nbb_cells[i].set_text(nbb_formatted_code);\n",
       "                        }\n",
       "                        break;\n",
       "                    }\n",
       "                }\n",
       "            }, 500);\n",
       "            "
      ],
      "text/plain": [
       "<IPython.core.display.Javascript object>"
      ]
     },
     "metadata": {},
     "output_type": "display_data"
    }
   ],
   "source": [
    "model = Sequential()\n",
    "model.add(Dense(55, input_shape=(400,), activation=\"relu\"))\n",
    "model.add(Dense(55, activation=\"relu\"))\n",
    "model.add(Dense(num_classes, activation=\"softmax\"))"
   ]
  },
  {
   "cell_type": "code",
   "execution_count": 17,
   "metadata": {},
   "outputs": [
    {
     "name": "stdout",
     "output_type": "stream",
     "text": [
      "Model: \"sequential_1\"\n",
      "_________________________________________________________________\n",
      "Layer (type)                 Output Shape              Param #   \n",
      "=================================================================\n",
      "dense_1 (Dense)              (None, 55)                22055     \n",
      "_________________________________________________________________\n",
      "dense_2 (Dense)              (None, 55)                3080      \n",
      "_________________________________________________________________\n",
      "dense_3 (Dense)              (None, 32)                1792      \n",
      "=================================================================\n",
      "Total params: 26,927\n",
      "Trainable params: 26,927\n",
      "Non-trainable params: 0\n",
      "_________________________________________________________________\n"
     ]
    },
    {
     "data": {
      "application/javascript": [
       "\n",
       "            setTimeout(function() {\n",
       "                var nbb_cell_id = 17;\n",
       "                var nbb_unformatted_code = \"model.compile(loss=\\\"categorical_crossentropy\\\", optimizer=\\\"adam\\\", metrics=[\\\"accuracy\\\"])\\nmodel.summary()\";\n",
       "                var nbb_formatted_code = \"model.compile(loss=\\\"categorical_crossentropy\\\", optimizer=\\\"adam\\\", metrics=[\\\"accuracy\\\"])\\nmodel.summary()\";\n",
       "                var nbb_cells = Jupyter.notebook.get_cells();\n",
       "                for (var i = 0; i < nbb_cells.length; ++i) {\n",
       "                    if (nbb_cells[i].input_prompt_number == nbb_cell_id) {\n",
       "                        if (nbb_cells[i].get_text() == nbb_unformatted_code) {\n",
       "                             nbb_cells[i].set_text(nbb_formatted_code);\n",
       "                        }\n",
       "                        break;\n",
       "                    }\n",
       "                }\n",
       "            }, 500);\n",
       "            "
      ],
      "text/plain": [
       "<IPython.core.display.Javascript object>"
      ]
     },
     "metadata": {},
     "output_type": "display_data"
    }
   ],
   "source": [
    "model.compile(loss=\"categorical_crossentropy\", optimizer=\"adam\", metrics=[\"accuracy\"])\n",
    "model.summary()"
   ]
  },
  {
   "cell_type": "code",
   "execution_count": 17,
   "metadata": {},
   "outputs": [
    {
     "data": {
      "image/png": "[encoded data removed]",
      "text/plain": [
       "<IPython.core.display.Image object>"
      ]
     },
     "execution_count": 17,
     "metadata": {},
     "output_type": "execute_result"
    },
    {
     "data": {
      "application/javascript": [
       "\n",
       "            setTimeout(function() {\n",
       "                var nbb_cell_id = 17;\n",
       "                var nbb_unformatted_code = \"from tensorflow import keras\\nfrom keras.utils.vis_utils import plot_model\\n\\nkeras.utils.plot_model(model, to_file=\\\"model2.png\\\", show_layer_names=True)\";\n",
       "                var nbb_formatted_code = \"from tensorflow import keras\\nfrom keras.utils.vis_utils import plot_model\\n\\nkeras.utils.plot_model(model, to_file=\\\"model2.png\\\", show_layer_names=True)\";\n",
       "                var nbb_cells = Jupyter.notebook.get_cells();\n",
       "                for (var i = 0; i < nbb_cells.length; ++i) {\n",
       "                    if (nbb_cells[i].input_prompt_number == nbb_cell_id) {\n",
       "                        if (nbb_cells[i].get_text() == nbb_unformatted_code) {\n",
       "                             nbb_cells[i].set_text(nbb_formatted_code);\n",
       "                        }\n",
       "                        break;\n",
       "                    }\n",
       "                }\n",
       "            }, 500);\n",
       "            "
      ],
      "text/plain": [
       "<IPython.core.display.Javascript object>"
      ]
     },
     "metadata": {},
     "output_type": "display_data"
    }
   ],
   "source": [
    "from tensorflow import keras\n",
    "from keras.utils.vis_utils import plot_model\n",
    "\n",
    "keras.utils.plot_model(model, to_file=\"model2.png\", show_layer_names=True)"
   ]
  },
  {
   "cell_type": "code",
   "execution_count": 18,
   "metadata": {},
   "outputs": [
    {
     "data": {
      "application/javascript": [
       "\n",
       "            setTimeout(function() {\n",
       "                var nbb_cell_id = 18;\n",
       "                var nbb_unformatted_code = \"from sklearn.model_selection import train_test_split\\n\\nX_train, X_test, y_train, y_test = train_test_split(X, y, test_size=0.2, shuffle=True)\";\n",
       "                var nbb_formatted_code = \"from sklearn.model_selection import train_test_split\\n\\nX_train, X_test, y_train, y_test = train_test_split(X, y, test_size=0.2, shuffle=True)\";\n",
       "                var nbb_cells = Jupyter.notebook.get_cells();\n",
       "                for (var i = 0; i < nbb_cells.length; ++i) {\n",
       "                    if (nbb_cells[i].input_prompt_number == nbb_cell_id) {\n",
       "                        if (nbb_cells[i].get_text() == nbb_unformatted_code) {\n",
       "                             nbb_cells[i].set_text(nbb_formatted_code);\n",
       "                        }\n",
       "                        break;\n",
       "                    }\n",
       "                }\n",
       "            }, 500);\n",
       "            "
      ],
      "text/plain": [
       "<IPython.core.display.Javascript object>"
      ]
     },
     "metadata": {},
     "output_type": "display_data"
    }
   ],
   "source": [
    "from sklearn.model_selection import train_test_split\n",
    "\n",
    "X_train, X_test, y_train, y_test = train_test_split(X, y, test_size=0.2, shuffle=True)"
   ]
  },
  {
   "cell_type": "code",
   "execution_count": 19,
   "metadata": {},
   "outputs": [
    {
     "data": {
      "application/javascript": [
       "\n",
       "            setTimeout(function() {\n",
       "                var nbb_cell_id = 19;\n",
       "                var nbb_unformatted_code = \"# print(X_train[0])\";\n",
       "                var nbb_formatted_code = \"# print(X_train[0])\";\n",
       "                var nbb_cells = Jupyter.notebook.get_cells();\n",
       "                for (var i = 0; i < nbb_cells.length; ++i) {\n",
       "                    if (nbb_cells[i].input_prompt_number == nbb_cell_id) {\n",
       "                        if (nbb_cells[i].get_text() == nbb_unformatted_code) {\n",
       "                             nbb_cells[i].set_text(nbb_formatted_code);\n",
       "                        }\n",
       "                        break;\n",
       "                    }\n",
       "                }\n",
       "            }, 500);\n",
       "            "
      ],
      "text/plain": [
       "<IPython.core.display.Javascript object>"
      ]
     },
     "metadata": {},
     "output_type": "display_data"
    }
   ],
   "source": [
    "# print(X_train[0])"
   ]
  },
  {
   "cell_type": "code",
   "execution_count": 21,
   "metadata": {},
   "outputs": [
    {
     "name": "stdout",
     "output_type": "stream",
     "text": [
      "Train on 14672 samples, validate on 3668 samples\n",
      "Epoch 1/20\n",
      "14672/14672 [==============================] - 3s 174us/step - loss: 0.0270 - acc: 0.9933 - val_loss: 0.0773 - val_acc: 0.9850\n",
      "Epoch 2/20\n",
      "14672/14672 [==============================] - 3s 178us/step - loss: 0.0259 - acc: 0.9921 - val_loss: 0.0617 - val_acc: 0.9880\n",
      "Epoch 3/20\n",
      "14672/14672 [==============================] - 2s 169us/step - loss: 0.0239 - acc: 0.9933 - val_loss: 0.0729 - val_acc: 0.9858\n",
      "Epoch 4/20\n",
      "14672/14672 [==============================] - 3s 171us/step - loss: 0.0236 - acc: 0.9937 - val_loss: 0.0623 - val_acc: 0.9880\n",
      "Epoch 5/20\n",
      "14672/14672 [==============================] - 2s 169us/step - loss: 0.0199 - acc: 0.9949 - val_loss: 0.0989 - val_acc: 0.9787\n",
      "Epoch 6/20\n",
      "14672/14672 [==============================] - 3s 175us/step - loss: 0.0221 - acc: 0.9921 - val_loss: 0.0641 - val_acc: 0.9883\n",
      "Epoch 7/20\n",
      "14672/14672 [==============================] - 3s 181us/step - loss: 0.0209 - acc: 0.9942 - val_loss: 0.0613 - val_acc: 0.9877\n",
      "Epoch 8/20\n",
      "14672/14672 [==============================] - 2s 166us/step - loss: 0.0219 - acc: 0.9931 - val_loss: 0.0751 - val_acc: 0.9842\n",
      "Epoch 9/20\n",
      "14672/14672 [==============================] - 2s 168us/step - loss: 0.0131 - acc: 0.9963 - val_loss: 0.0616 - val_acc: 0.9877\n",
      "Epoch 10/20\n",
      "14672/14672 [==============================] - 2s 164us/step - loss: 0.0170 - acc: 0.9952 - val_loss: 0.0636 - val_acc: 0.9872\n",
      "Epoch 11/20\n",
      "14672/14672 [==============================] - 2s 164us/step - loss: 0.0189 - acc: 0.9941 - val_loss: 0.0610 - val_acc: 0.9894\n",
      "Epoch 12/20\n",
      "14672/14672 [==============================] - 3s 171us/step - loss: 0.0111 - acc: 0.9965 - val_loss: 0.0611 - val_acc: 0.9869\n",
      "Epoch 13/20\n",
      "14672/14672 [==============================] - 3s 175us/step - loss: 0.0119 - acc: 0.9968 - val_loss: 0.0935 - val_acc: 0.9787\n",
      "Epoch 14/20\n",
      "14672/14672 [==============================] - 2s 170us/step - loss: 0.0120 - acc: 0.9969 - val_loss: 0.0681 - val_acc: 0.9885\n",
      "Epoch 15/20\n",
      "14672/14672 [==============================] - 3s 171us/step - loss: 0.0094 - acc: 0.9973 - val_loss: 0.0729 - val_acc: 0.9864\n",
      "Epoch 16/20\n",
      "14672/14672 [==============================] - 2s 168us/step - loss: 0.0169 - acc: 0.9940 - val_loss: 0.0690 - val_acc: 0.9885\n",
      "Epoch 17/20\n",
      "14672/14672 [==============================] - 3s 185us/step - loss: 0.0105 - acc: 0.9968 - val_loss: 0.0825 - val_acc: 0.9836\n",
      "Epoch 18/20\n",
      "14672/14672 [==============================] - 2s 159us/step - loss: 0.0111 - acc: 0.9971 - val_loss: 0.0866 - val_acc: 0.9858\n",
      "Epoch 19/20\n",
      "14672/14672 [==============================] - 2s 160us/step - loss: 0.0128 - acc: 0.9956 - val_loss: 0.0617 - val_acc: 0.9891\n",
      "Epoch 20/20\n",
      "14672/14672 [==============================] - 2s 168us/step - loss: 0.0105 - acc: 0.9965 - val_loss: 0.0795 - val_acc: 0.9869\n"
     ]
    },
    {
     "data": {
      "text/plain": [
       "<keras.callbacks.History at 0x18f85cdacc8>"
      ]
     },
     "execution_count": 21,
     "metadata": {},
     "output_type": "execute_result"
    },
    {
     "data": {
      "application/javascript": [
       "\n",
       "            setTimeout(function() {\n",
       "                var nbb_cell_id = 21;\n",
       "                var nbb_unformatted_code = \"model.fit(\\n    X_train,\\n    y_train,\\n    validation_data=(X_test, y_test),\\n    batch_size=32,\\n    epochs=20,\\n    verbose=1,\\n)\";\n",
       "                var nbb_formatted_code = \"model.fit(\\n    X_train,\\n    y_train,\\n    validation_data=(X_test, y_test),\\n    batch_size=32,\\n    epochs=20,\\n    verbose=1,\\n)\";\n",
       "                var nbb_cells = Jupyter.notebook.get_cells();\n",
       "                for (var i = 0; i < nbb_cells.length; ++i) {\n",
       "                    if (nbb_cells[i].input_prompt_number == nbb_cell_id) {\n",
       "                        if (nbb_cells[i].get_text() == nbb_unformatted_code) {\n",
       "                             nbb_cells[i].set_text(nbb_formatted_code);\n",
       "                        }\n",
       "                        break;\n",
       "                    }\n",
       "                }\n",
       "            }, 500);\n",
       "            "
      ],
      "text/plain": [
       "<IPython.core.display.Javascript object>"
      ]
     },
     "metadata": {},
     "output_type": "display_data"
    }
   ],
   "source": [
    "model.fit(\n",
    "    X_train,\n",
    "    y_train,\n",
    "    validation_data=(X_test, y_test),\n",
    "    batch_size=32,\n",
    "    epochs=20,\n",
    "    verbose=1,\n",
    ")"
   ]
  },
  {
   "cell_type": "code",
   "execution_count": 22,
   "metadata": {},
   "outputs": [
    {
     "name": "stdout",
     "output_type": "stream",
     "text": [
      "Generating test predictions...\n",
      "3668/3668 [==============================] - 0s 91us/step\n",
      "[25  3  0 ...  0 11 23]\n"
     ]
    },
    {
     "data": {
      "application/javascript": [
       "\n",
       "            setTimeout(function() {\n",
       "                var nbb_cell_id = 22;\n",
       "                var nbb_unformatted_code = \"print(\\\"Generating test predictions...\\\")\\npredictions = model.predict_classes(X_test, verbose=1)\\nprint(predictions)\";\n",
       "                var nbb_formatted_code = \"print(\\\"Generating test predictions...\\\")\\npredictions = model.predict_classes(X_test, verbose=1)\\nprint(predictions)\";\n",
       "                var nbb_cells = Jupyter.notebook.get_cells();\n",
       "                for (var i = 0; i < nbb_cells.length; ++i) {\n",
       "                    if (nbb_cells[i].input_prompt_number == nbb_cell_id) {\n",
       "                        if (nbb_cells[i].get_text() == nbb_unformatted_code) {\n",
       "                             nbb_cells[i].set_text(nbb_formatted_code);\n",
       "                        }\n",
       "                        break;\n",
       "                    }\n",
       "                }\n",
       "            }, 500);\n",
       "            "
      ],
      "text/plain": [
       "<IPython.core.display.Javascript object>"
      ]
     },
     "metadata": {},
     "output_type": "display_data"
    }
   ],
   "source": [
    "print(\"Generating test predictions...\")\n",
    "predictions = model.predict_classes(X_test, verbose=1)\n",
    "print(predictions)"
   ]
  },
  {
   "cell_type": "code",
   "execution_count": 23,
   "metadata": {},
   "outputs": [
    {
     "data": {
      "application/javascript": [
       "\n",
       "            setTimeout(function() {\n",
       "                var nbb_cell_id = 23;\n",
       "                var nbb_unformatted_code = \"import pickle\\n\\npickle.dump(label_binarizer, open(\\\"binarizer.pkl\\\", \\\"wb\\\"))\\nmodel.save_weights(\\\"weights.h5\\\")\";\n",
       "                var nbb_formatted_code = \"import pickle\\n\\npickle.dump(label_binarizer, open(\\\"binarizer.pkl\\\", \\\"wb\\\"))\\nmodel.save_weights(\\\"weights.h5\\\")\";\n",
       "                var nbb_cells = Jupyter.notebook.get_cells();\n",
       "                for (var i = 0; i < nbb_cells.length; ++i) {\n",
       "                    if (nbb_cells[i].input_prompt_number == nbb_cell_id) {\n",
       "                        if (nbb_cells[i].get_text() == nbb_unformatted_code) {\n",
       "                             nbb_cells[i].set_text(nbb_formatted_code);\n",
       "                        }\n",
       "                        break;\n",
       "                    }\n",
       "                }\n",
       "            }, 500);\n",
       "            "
      ],
      "text/plain": [
       "<IPython.core.display.Javascript object>"
      ]
     },
     "metadata": {},
     "output_type": "display_data"
    }
   ],
   "source": [
    "import pickle\n",
    "\n",
    "pickle.dump(label_binarizer, open(\"binarizer.pkl\", \"wb\"))\n",
    "model.save_weights(\"weights.h5\")"
   ]
  },
  {
   "cell_type": "code",
   "execution_count": null,
   "metadata": {},
   "outputs": [],
   "source": []
  }
 ],
 "metadata": {
  "kernelspec": {
   "display_name": "Python 3",
   "language": "python",
   "name": "python3"
  },
  "language_info": {
   "codemirror_mode": {
    "name": "ipython",
    "version": 3
   },
   "file_extension": ".py",
   "mimetype": "text/x-python",
   "name": "python",
   "nbconvert_exporter": "python",
   "pygments_lexer": "ipython3",
   "version": "3.7.7"
  }
 },
 "nbformat": 4,
 "nbformat_minor": 4
}
